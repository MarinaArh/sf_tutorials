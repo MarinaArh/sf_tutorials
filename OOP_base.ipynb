{
 "cells": [
  {
   "cell_type": "markdown",
   "id": "1f5227b3",
   "metadata": {},
   "source": [
    "<div style=\"text-align: right\"> Марина Архипцева </div>\n",
    "\n",
    "### Основы ООП\n",
    "**План**\n",
    "\n",
    "- Парадигмы и принципы программирования\n",
    "- Классы\n",
    "- Магический метод `__init__`\n",
    "- Методы и функции\n",
    "- Наследование\n",
    "- Импорт классов\n",
    "- Ответы на вопросы"
   ]
  },
  {
   "cell_type": "markdown",
   "id": "fed97519",
   "metadata": {},
   "source": [
    "### Парадигмы"
   ]
  },
  {
   "cell_type": "markdown",
   "id": "ac564810",
   "metadata": {},
   "source": [
    "Парадигма - это совокупность подходов, определяющих стиль написания программ."
   ]
  },
  {
   "cell_type": "markdown",
   "id": "1423e747",
   "metadata": {},
   "source": [
    "Основные парадигмы - императивная и декларативная."
   ]
  },
  {
   "cell_type": "markdown",
   "id": "fe5429dd",
   "metadata": {},
   "source": [
    "<img src=\"image_2.png\" style=\"width: 400px;\"/>"
   ]
  },
  {
   "cell_type": "markdown",
   "id": "42865882",
   "metadata": {},
   "source": [
    "### ООП в Python"
   ]
  },
  {
   "cell_type": "markdown",
   "id": "71e717f2",
   "metadata": {},
   "source": [
    "Алгоритмы + структуры данных = программы (Никлаус Вирт)\n",
    "\n",
    "Класс — проект (прототип, шаблон) для создания объектов определённого типа, описывающий их структуру (набор полей и их начальное состояние) и определяющая алгоритмы (функции или методы) для работы с этими объектами. \n",
    "\n",
    "Объект — это конкретный экземпляр класса."
   ]
  },
  {
   "cell_type": "code",
   "execution_count": 6,
   "id": "91c49d10",
   "metadata": {},
   "outputs": [
    {
     "name": "stdout",
     "output_type": "stream",
     "text": [
      "<class 'int'>\n",
      "<class 'str'>\n"
     ]
    }
   ],
   "source": [
    "# в Python всё классы и объекты\n",
    "n = 10\n",
    "x = \"Python\"\n",
    "print(type(n))\n",
    "print(type(x))"
   ]
  },
  {
   "cell_type": "code",
   "execution_count": 3,
   "id": "b6280b76",
   "metadata": {},
   "outputs": [
    {
     "name": "stdout",
     "output_type": "stream",
     "text": [
      "<class 'function'>\n"
     ]
    }
   ],
   "source": [
    "double = lambda x: x*2\n",
    "print(type(double))"
   ]
  },
  {
   "cell_type": "code",
   "execution_count": 5,
   "id": "a62282b1",
   "metadata": {},
   "outputs": [
    {
     "name": "stdout",
     "output_type": "stream",
     "text": [
      "['__add__', '__class__', '__contains__', '__delattr__', '__dir__', '__doc__', '__eq__', '__format__', '__ge__', '__getattribute__', '__getitem__', '__getnewargs__', '__gt__', '__hash__', '__init__', '__init_subclass__', '__iter__', '__le__', '__len__', '__lt__', '__mod__', '__mul__', '__ne__', '__new__', '__reduce__', '__reduce_ex__', '__repr__', '__rmod__', '__rmul__', '__setattr__', '__sizeof__', '__str__', '__subclasshook__', 'capitalize', 'casefold', 'center', 'count', 'encode', 'endswith', 'expandtabs', 'find', 'format', 'format_map', 'index', 'isalnum', 'isalpha', 'isascii', 'isdecimal', 'isdigit', 'isidentifier', 'islower', 'isnumeric', 'isprintable', 'isspace', 'istitle', 'isupper', 'join', 'ljust', 'lower', 'lstrip', 'maketrans', 'partition', 'removeprefix', 'removesuffix', 'replace', 'rfind', 'rindex', 'rjust', 'rpartition', 'rsplit', 'rstrip', 'split', 'splitlines', 'startswith', 'strip', 'swapcase', 'title', 'translate', 'upper', 'zfill']\n"
     ]
    }
   ],
   "source": [
    "# dir - список всех методов, которые можно применить для объекта\n",
    "print(dir(x))"
   ]
  },
  {
   "cell_type": "code",
   "execution_count": 38,
   "id": "68bdbda5",
   "metadata": {},
   "outputs": [
    {
     "name": "stdout",
     "output_type": "stream",
     "text": [
      "{2, 4, 5}\n"
     ]
    }
   ],
   "source": [
    "# конструктор\n",
    "a = set([2, 4, 5])\n",
    "print(a)"
   ]
  },
  {
   "cell_type": "markdown",
   "id": "edafe010",
   "metadata": {},
   "source": [
    "### Создание классов. Магические методы `__init__` и `__str__`"
   ]
  },
  {
   "cell_type": "code",
   "execution_count": 29,
   "id": "fab876fd",
   "metadata": {},
   "outputs": [
    {
     "name": "stdout",
     "output_type": "stream",
     "text": [
      "5\n",
      "9\n",
      "5\n"
     ]
    }
   ],
   "source": [
    "# соглашение - имя класса начинается с большой буквы\n",
    "class Five:\n",
    "    # атрибуты - поля (свойства) и методы\n",
    "    n = 5\n",
    "    def adder(v):\n",
    "        return v + Five.n\n",
    "    \n",
    "# создание экземпляра класса\n",
    "five = Five\n",
    "print(five.n)\n",
    "print(five.adder(4))"
   ]
  },
  {
   "cell_type": "code",
   "execution_count": 26,
   "id": "bab52879",
   "metadata": {},
   "outputs": [
    {
     "name": "stdout",
     "output_type": "stream",
     "text": [
      "5\n",
      "5\n",
      "five\n"
     ]
    }
   ],
   "source": [
    "# атрибуты классов и атрибуты объектов\n",
    "print(five.n)\n",
    "print(Five.n)\n",
    "\n",
    "five2 = Five\n",
    "five2.x = 'five'\n",
    "print(five2.x)"
   ]
  },
  {
   "cell_type": "markdown",
   "id": "4cadb50e",
   "metadata": {},
   "source": [
    "В Python атрибуты могут быть объявлены как для класса в целом, так и для каждого его экземпляра (объекта) индивидуально.\n",
    "\n",
    "Атрибуты класса - это переменные, которые принадлежат всем объектам данного класса. Они объявляются внутри класса, но вне методов, и обычно описывают общие характеристики всех объектов этого класса.\n",
    "\n",
    "Атрибуты объекта - это переменные, которые принадлежат только конкретному объекту данного класса. Они могут быть уникальными для каждого объекта."
   ]
  },
  {
   "cell_type": "markdown",
   "id": "cdd5ae6a",
   "metadata": {},
   "source": [
    "*Обычно методы объявляются на уровне класса, а не экземпляра.*"
   ]
  },
  {
   "cell_type": "markdown",
   "id": "e38224f5",
   "metadata": {},
   "source": [
    "**Метод `__init__`**"
   ]
  },
  {
   "cell_type": "markdown",
   "id": "bac3ac05",
   "metadata": {},
   "source": [
    "Метод отвечает за инициализацию экземпляров класса после их создания."
   ]
  },
  {
   "cell_type": "code",
   "execution_count": 33,
   "id": "dc955d7e",
   "metadata": {},
   "outputs": [
    {
     "name": "stdout",
     "output_type": "stream",
     "text": [
      "ФИО: Иванов Bdfy\n",
      "Дата рождения: 28.06.1977\n",
      "Номер паспорта: 1108 398213\n"
     ]
    }
   ],
   "source": [
    "# класс Паспорт\n",
    "\n",
    "class Passport:\n",
    "    def __init__(self, first_name, last_name, date_of_birth, numb_of_pasport):\n",
    "        self.first_name = first_name\n",
    "        self.last_name = last_name\n",
    "        self.date_of_birth = date_of_birth\n",
    "        self.numb_of_pasport = numb_of_pasport\n",
    "    \n",
    "    def __str__(self):\n",
    "        return f\"\"\"ФИО: {self.first_name} {self.last_name}\\nДата рождения: {self.date_of_birth}\\nНомер паспорта: {self.numb_of_pasport}\"\"\"\n",
    "\n",
    "# создаем объект через вызов конструктора\n",
    "new_passport = Passport('Иванов', 'Bdfy', '28.06.1977', '1108 398213')\n",
    "print(new_passport)"
   ]
  },
  {
   "cell_type": "markdown",
   "id": "00b8c85b",
   "metadata": {},
   "source": [
    "Параметр self указывает на конкретный экземпляр класса (объект).\n",
    "\n",
    "При помощи параметра self методы экземпляра класса могут иметь свободный доступ к атрибутам и другим методам того же объекта. То есть, таким образом в методах достигается возможность модификации состояния объекта (изменения свойств).\n",
    "\n",
    "Название self - это соглашение."
   ]
  },
  {
   "cell_type": "markdown",
   "id": "6234fd6f",
   "metadata": {},
   "source": [
    "Когда вы определяете метод внутри класса, первым параметром этого метода всегда должен быть self. Это соглашение в Python, которое позволяет указать, что метод работает с атрибутами и поведением именно того объекта, для которого он был вызван."
   ]
  },
  {
   "cell_type": "markdown",
   "id": "0751065e",
   "metadata": {},
   "source": [
    "### Методы и функции"
   ]
  },
  {
   "cell_type": "markdown",
   "id": "933e0133",
   "metadata": {},
   "source": [
    "Методы - это функции, определенные внутри класса, которые могут работать с атрибутами объекта и выполнять определенные операции."
   ]
  },
  {
   "cell_type": "code",
   "execution_count": 9,
   "id": "0385d34c",
   "metadata": {},
   "outputs": [
    {
     "name": "stdout",
     "output_type": "stream",
     "text": [
      "Изучаем Python, автор - Марк Лутц\n",
      "True\n",
      "Выдана книга: Изучаем Python, автор - Марк Лутц\n",
      "Выдана книга: Изучаем Python, автор - Марк Лутц\n",
      "Выдана книга: Изучаем Python, автор - Марк Лутц\n",
      "Выдана книга: Изучаем Python, автор - Марк Лутц\n",
      "Выдана книга: Изучаем Python, автор - Марк Лутц\n",
      "Выдана книга: Изучаем Python, автор - Марк Лутц\n",
      "Выдана книга: Изучаем Python, автор - Марк Лутц\n",
      "Выдана книга: Изучаем Python, автор - Марк Лутц\n",
      "Выдана книга: Изучаем Python, автор - Марк Лутц\n",
      "Выдана книга: Изучаем Python, автор - Марк Лутц\n",
      "К сожалению нет доступных экземпляров данной книги\n"
     ]
    }
   ],
   "source": [
    "class Book:\n",
    "    def __init__(self, title, author, count):\n",
    "        self.title = title\n",
    "        self.author = author\n",
    "        self.count = 10\n",
    "    \n",
    "    def __str__(self):\n",
    "        return f\"{self.title}, автор - {self.author}\"\n",
    "    \n",
    "    def check_availability(self):\n",
    "        return self.count > 0\n",
    "    \n",
    "    def get_book(self):\n",
    "        if self.check_availability():\n",
    "            self.count -= 1\n",
    "            print(f\"Выдана книга: {str(self)}\")\n",
    "        else:\n",
    "            print(f\"К сожалению нет доступных экземпляров книги {str(self)}\")\n",
    "        \n",
    "    def return_book(self):\n",
    "        self.count += 1\n",
    "\n",
    "book_1234 = Book('Изучаем Python', 'Марк Лутц', 10)\n",
    "print(book_1234)\n",
    "print(book_1234.check_availability())\n",
    "book_1234.get_book()\n",
    "for _ in range(10):\n",
    "    book_1234.get_book()"
   ]
  },
  {
   "cell_type": "markdown",
   "id": "6e697f0a",
   "metadata": {},
   "source": [
    "### Наследование"
   ]
  },
  {
   "cell_type": "markdown",
   "id": "7dff00f3",
   "metadata": {},
   "source": [
    "Наследование позволяет создавать новый класс на основе существующего, наследуя его атрибуты и методы. Родительский класс называется базовым, а классы, которые наследуются от него дочерними."
   ]
  },
  {
   "cell_type": "code",
   "execution_count": 26,
   "id": "150b9a78",
   "metadata": {},
   "outputs": [
    {
     "name": "stdout",
     "output_type": "stream",
     "text": [
      "Woof!\n",
      "Meow!\n",
      "Moo!\n"
     ]
    }
   ],
   "source": [
    "class Animal:\n",
    "    def sound(self):\n",
    "        pass\n",
    "\n",
    "class Dog(Animal):  \n",
    "    def sound(self):\n",
    "        return f\"Woof!\"\n",
    "    \n",
    "class Cow(Animal):\n",
    "    def sound(self):\n",
    "        return \"Moo!\"\n",
    "\n",
    "class Cat(Animal):\n",
    "    def sound(self):\n",
    "        return \"Meow!\"\n",
    "\n",
    "animals = [Dog(), Cat(), Cow()]\n",
    "\n",
    "for animal in animals:\n",
    "    print(animal.sound())"
   ]
  },
  {
   "cell_type": "code",
   "execution_count": 34,
   "id": "4bd0e085",
   "metadata": {},
   "outputs": [
    {
     "name": "stdout",
     "output_type": "stream",
     "text": [
      "ФИО: Peter Smit\n",
      "Дата рождения: 01.03.1990\n",
      "Номер паспорта: 21435688\n",
      "Страна: USA\n"
     ]
    }
   ],
   "source": [
    "# класс - паспорт иностранного гражданина\n",
    "class ForeignPassport(Passport):\n",
    "    def __init__(self, first_name, last_name, country, date_of_birth, numb_of_pasport):\n",
    "        super().__init__(first_name, last_name, date_of_birth, numb_of_pasport)\n",
    "        self.country = country\n",
    "    def __str__(self):\n",
    "        return super().__str__()+f'\\nСтрана: {self.country}'\n",
    "\n",
    "request = ForeignPassport('Peter', 'Smit', 'USA', '01.03.1990', '21435688')\n",
    "print(request)"
   ]
  },
  {
   "cell_type": "markdown",
   "id": "c54736f2",
   "metadata": {},
   "source": [
    "### Импорт классов"
   ]
  },
  {
   "cell_type": "markdown",
   "id": "fb1f013b",
   "metadata": {},
   "source": [
    "Классы можно определять в отдельных модулях и затем импортировать их в другие модули для использования."
   ]
  },
  {
   "cell_type": "code",
   "execution_count": 11,
   "id": "801e2bd0",
   "metadata": {},
   "outputs": [],
   "source": [
    "from collections import Counter"
   ]
  },
  {
   "cell_type": "code",
   "execution_count": 12,
   "id": "1ce33fc7",
   "metadata": {},
   "outputs": [
    {
     "data": {
      "text/plain": [
       "Counter({'М': 2,\n",
       "         'о': 3,\n",
       "         'ж': 1,\n",
       "         'н': 5,\n",
       "         ' ': 8,\n",
       "         'в': 4,\n",
       "         'ы': 2,\n",
       "         'л': 3,\n",
       "         'е': 6,\n",
       "         'т': 3,\n",
       "         'ь': 1,\n",
       "         'з': 1,\n",
       "         'а': 4,\n",
       "         'р': 3,\n",
       "         'с': 2,\n",
       "         ',': 1,\n",
       "         'ю': 1,\n",
       "         'и': 1,\n",
       "         'у': 2,\n",
       "         'ш': 1,\n",
       "         'й': 1,\n",
       "         'п': 1})"
      ]
     },
     "execution_count": 12,
     "metadata": {},
     "output_type": "execute_result"
    }
   ],
   "source": [
    "letter_cnt = Counter('Можно вылететь за Марс, ювелирно свернув у нашей планеты')\n",
    "letter_cnt"
   ]
  },
  {
   "cell_type": "code",
   "execution_count": 14,
   "id": "a53d9da5",
   "metadata": {},
   "outputs": [
    {
     "data": {
      "text/plain": [
       "[(' ', 8), ('е', 6), ('н', 5)]"
      ]
     },
     "execution_count": 14,
     "metadata": {},
     "output_type": "execute_result"
    }
   ],
   "source": [
    "letter_cnt.most_common(3)"
   ]
  },
  {
   "cell_type": "markdown",
   "id": "807d17b1",
   "metadata": {},
   "source": [
    "### Ресурсы и задания\n",
    "\n",
    "- Про классы в документации Python: https://docs.python.org/3/tutorial/classes.html\n",
    "- Python Object-Oriented Programming (OOP) - Подробный учебник по ООП в Python: https://realpython.com/python3-object-oriented-programming/\n",
    "- Практические задания: создать классы для предметной области по вашему выбору (например, банковский счет, автомобиль и т.д.)."
   ]
  },
  {
   "cell_type": "markdown",
   "id": "e020fcff",
   "metadata": {},
   "source": [
    "### Обратная связь\n",
    "\n",
    "Благодарю вас за участие! "
   ]
  },
  {
   "cell_type": "markdown",
   "id": "20c2db92",
   "metadata": {},
   "source": [
    "https://docs.google.com/forms/d/e/1FAIpQLSddDUfq-StjgH13rWy4usdnuV3LpRaNKP8uCG8IdJQ3WH122Q/viewform"
   ]
  },
  {
   "cell_type": "code",
   "execution_count": null,
   "id": "4e669162",
   "metadata": {},
   "outputs": [],
   "source": []
  }
 ],
 "metadata": {
  "kernelspec": {
   "display_name": "Python 3 (ipykernel)",
   "language": "python",
   "name": "python3"
  },
  "language_info": {
   "codemirror_mode": {
    "name": "ipython",
    "version": 3
   },
   "file_extension": ".py",
   "mimetype": "text/x-python",
   "name": "python",
   "nbconvert_exporter": "python",
   "pygments_lexer": "ipython3",
   "version": "3.10.12"
  }
 },
 "nbformat": 4,
 "nbformat_minor": 5
}
