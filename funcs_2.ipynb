{
 "cells": [
  {
   "cell_type": "markdown",
   "id": "ce238605",
   "metadata": {},
   "source": [
    "### План\n",
    "\n",
    "- Последовательности и итерируемые объекты\n",
    "- Итераторы\n",
    "- Генераторы, оператор yield\n",
    "- Замыкания и декораторы\n",
    "- Ответы на вопросы"
   ]
  },
  {
   "cell_type": "markdown",
   "id": "85122f8b",
   "metadata": {},
   "source": [
    "### Последовательности и итерируемые объекты"
   ]
  },
  {
   "cell_type": "markdown",
   "id": "126161bb",
   "metadata": {},
   "source": [
    "Последовательность — это упорядоченный набор элементов, в котором каждый элемент идентифицируется своей позицией или индексом. \n",
    "\n",
    "Последовательности в Python характеризуются возможностью доступа к элементам по индексу и поддержкой различных общих операций, таких как нарезка, объединение и повторение.\n",
    "\n",
    "Существует три основных типа последовательностей: списки, кортежи и объекты-диапазоны. Дополнительные типы последовательностей: предназначенные для обработки двоичных данных (bytes, bytearray, memoryview) и текстовые строки."
   ]
  },
  {
   "cell_type": "code",
   "execution_count": 17,
   "id": "d8938f4c",
   "metadata": {},
   "outputs": [
    {
     "name": "stdout",
     "output_type": "stream",
     "text": [
      "[3, 4]\n"
     ]
    }
   ],
   "source": [
    "# нарезка\n",
    "my_list = [1, 2, 3, 4, 5]\n",
    "print(my_list[2:4]) "
   ]
  },
  {
   "cell_type": "code",
   "execution_count": 18,
   "id": "45ab93aa",
   "metadata": {},
   "outputs": [
    {
     "name": "stdout",
     "output_type": "stream",
     "text": [
      "(1, 2, 3, 4, 5, 1, 2, 3, 4, 5)\n"
     ]
    }
   ],
   "source": [
    "# объединение\n",
    "my_tuple = (1, 2, 3, 4, 5)\n",
    "print(my_tuple+tuple(my_list)) "
   ]
  },
  {
   "cell_type": "code",
   "execution_count": 19,
   "id": "2ccbda0b",
   "metadata": {},
   "outputs": [
    {
     "name": "stdout",
     "output_type": "stream",
     "text": [
      "HelloHelloHello\n",
      "[1, 2, 3, 4, 5, 1, 2, 3, 4, 5, 1, 2, 3, 4, 5]\n"
     ]
    }
   ],
   "source": [
    "# повторение\n",
    "my_str = 'Hello'\n",
    "print(my_str*3)\n",
    "print(my_list*3)"
   ]
  },
  {
   "cell_type": "markdown",
   "id": "bd50723f",
   "metadata": {},
   "source": [
    "Итерируемый объект — это любой объект, который можно пройти в цикле или проитерировать. Он предоставляет способ доступа к своим элементам по одному, обычно через протоколы итераций, такие как циклы, или используя встроенные функции, которые используют итерирование.\n",
    "\n",
    "В Python многие объекты могут быть итерируемыми, включая последовательности, а также другие типы, такие как словари, множества и генераторы."
   ]
  },
  {
   "cell_type": "code",
   "execution_count": 15,
   "id": "4401dc74",
   "metadata": {},
   "outputs": [
    {
     "name": "stdout",
     "output_type": "stream",
     "text": [
      "1\n",
      "2\n",
      "3\n",
      "4\n",
      "5\n"
     ]
    }
   ],
   "source": [
    "# пример итерирования списка, используя цикл for\n",
    "my_list = [1, 2, 3, 4, 5]\n",
    "\n",
    "for item in my_list:\n",
    "    print(item)\n",
    "\n",
    "# цикл for автоматически создает из списка итерируемый объект и перебирает его элементы"
   ]
  },
  {
   "cell_type": "code",
   "execution_count": 17,
   "id": "1e99553a",
   "metadata": {},
   "outputs": [
    {
     "name": "stdout",
     "output_type": "stream",
     "text": [
      "0\n",
      "1\n",
      "2\n",
      "3\n",
      "4\n"
     ]
    }
   ],
   "source": [
    "# пример итерирования объекта range\n",
    "my_range = range(5)\n",
    "\n",
    "for item in my_range:\n",
    "    print(item)"
   ]
  },
  {
   "cell_type": "code",
   "execution_count": 18,
   "id": "f3fdbb87",
   "metadata": {},
   "outputs": [
    {
     "name": "stdout",
     "output_type": "stream",
     "text": [
      "1\n",
      "2\n",
      "3\n"
     ]
    }
   ],
   "source": [
    "# множество\n",
    "my_set = {1, 2, 3}\n",
    "\n",
    "for item in my_set:\n",
    "    print(item)"
   ]
  },
  {
   "cell_type": "code",
   "execution_count": 20,
   "id": "ea6f6d6c",
   "metadata": {},
   "outputs": [
    {
     "name": "stdout",
     "output_type": "stream",
     "text": [
      "a\n",
      "b\n",
      "c\n",
      "a 1\n",
      "b 2\n",
      "c 3\n",
      "1\n",
      "2\n",
      "3\n"
     ]
    }
   ],
   "source": [
    "# словарь\n",
    "my_dict = {'a': 1, 'b': 2, 'c': 3}\n",
    "\n",
    "for key in my_dict:\n",
    "    print(key)\n",
    "\n",
    "for key, value in my_dict.items():\n",
    "    print(key, value)\n",
    "\n",
    "for value in my_dict.values():\n",
    "    print(value)"
   ]
  },
  {
   "cell_type": "markdown",
   "id": "d3d6e24d",
   "metadata": {},
   "source": [
    "***"
   ]
  },
  {
   "cell_type": "markdown",
   "id": "0ea566a7",
   "metadata": {},
   "source": [
    "\n",
    "\n",
    "В Python итераторы и генераторы являются мощными инструментами для работы с последовательностями данных. \n",
    "\n",
    "Они оба позволяют получать элементы последовательности по одному за раз, но имеют некоторые различия в своем использовании и реализации."
   ]
  },
  {
   "cell_type": "markdown",
   "id": "593988ee",
   "metadata": {},
   "source": [
    "***"
   ]
  },
  {
   "cell_type": "markdown",
   "id": "dd2cbdc1",
   "metadata": {},
   "source": [
    "### Итераторы"
   ]
  },
  {
   "cell_type": "markdown",
   "id": "7ed194e9",
   "metadata": {},
   "source": [
    "В Python итераторы — это объекты, которые реализуют протокол итератора, позволяя перебирать набор элементов по одному за раз. Они предоставляют способ последовательного доступа к элементам последовательности без необходимости знать базовую структуру данных или детали реализации.\n",
    "\n",
    "Чтобы создать итератор в Python, вам нужно определить класс, который имеет методы \\_\\_iter\\_\\_() и \\_\\_next\\_\\_(). Метод \\_\\_iter\\_\\_() возвращает сам объект итератора, а метод \\_\\_next\\_\\_() возвращает следующий элемент в последовательности или вызывает исключение StopIteration, когда элементов больше нет."
   ]
  },
  {
   "cell_type": "code",
   "execution_count": 11,
   "id": "9de942b6",
   "metadata": {},
   "outputs": [],
   "source": [
    "# Кастомный итератор\n",
    "class MyIterator:\n",
    "    def __init__(self, data):\n",
    "        self.data = data\n",
    "        self.index = 0\n",
    "\n",
    "    def __iter__(self):\n",
    "        '''Возвращает объект итератора'''\n",
    "        return self\n",
    "\n",
    "    def __next__(self):\n",
    "        '''Возвращает следующий элемент или прекращает итерирование'''\n",
    "        if self.index >= len(self.data):\n",
    "            raise StopIteration\n",
    "        value = self.data[self.index]\n",
    "        self.index += 1\n",
    "        return value"
   ]
  },
  {
   "cell_type": "code",
   "execution_count": 1,
   "id": "5418d677",
   "metadata": {},
   "outputs": [
    {
     "ename": "NameError",
     "evalue": "name 'MyIterator' is not defined",
     "output_type": "error",
     "traceback": [
      "\u001b[0;31m---------------------------------------------------------------------------\u001b[0m",
      "\u001b[0;31mNameError\u001b[0m                                 Traceback (most recent call last)",
      "Cell \u001b[0;32mIn[1], line 2\u001b[0m\n\u001b[1;32m      1\u001b[0m my_list \u001b[38;5;241m=\u001b[39m [\u001b[38;5;241m1\u001b[39m, \u001b[38;5;241m2\u001b[39m, \u001b[38;5;241m3\u001b[39m, \u001b[38;5;241m4\u001b[39m, \u001b[38;5;241m5\u001b[39m]\n\u001b[0;32m----> 2\u001b[0m my_iterator \u001b[38;5;241m=\u001b[39m \u001b[43mMyIterator\u001b[49m(my_list)\n\u001b[1;32m      4\u001b[0m \u001b[38;5;28;01mfor\u001b[39;00m item \u001b[38;5;129;01min\u001b[39;00m my_iterator:\n\u001b[1;32m      5\u001b[0m     \u001b[38;5;28mprint\u001b[39m(item)\n",
      "\u001b[0;31mNameError\u001b[0m: name 'MyIterator' is not defined"
     ]
    }
   ],
   "source": [
    "my_list = [1, 2, 3, 4, 5]\n",
    "my_iterator = MyIterator(my_list)\n",
    "\n",
    "for item in my_iterator:\n",
    "    print(item)"
   ]
  },
  {
   "cell_type": "markdown",
   "id": "5fd222cf",
   "metadata": {},
   "source": [
    "Можно использовать встроенную функцию iter() и функцию next() для работы с итераторами.\n",
    "\n",
    "Функция iter() возвращает объект итератора из итерируемого объекта, а функция next() извлекает из итератора следующий элемент.\n"
   ]
  },
  {
   "cell_type": "code",
   "execution_count": 22,
   "id": "d845ba59",
   "metadata": {},
   "outputs": [
    {
     "ename": "TypeError",
     "evalue": "'set' object is not an iterator",
     "output_type": "error",
     "traceback": [
      "\u001b[0;31m---------------------------------------------------------------------------\u001b[0m",
      "\u001b[0;31mTypeError\u001b[0m                                 Traceback (most recent call last)",
      "Cell \u001b[0;32mIn[22], line 2\u001b[0m\n\u001b[1;32m      1\u001b[0m my_set \u001b[38;5;241m=\u001b[39m {\u001b[38;5;241m1\u001b[39m, \u001b[38;5;241m2\u001b[39m, \u001b[38;5;241m3\u001b[39m}\n\u001b[0;32m----> 2\u001b[0m \u001b[38;5;28;43mnext\u001b[39;49m\u001b[43m(\u001b[49m\u001b[43mmy_set\u001b[49m\u001b[43m)\u001b[49m\n",
      "\u001b[0;31mTypeError\u001b[0m: 'set' object is not an iterator"
     ]
    }
   ],
   "source": [
    "my_set = {1, 2, 3}\n",
    "next(my_set)"
   ]
  },
  {
   "cell_type": "code",
   "execution_count": 21,
   "id": "5487cd2f",
   "metadata": {},
   "outputs": [
    {
     "name": "stdout",
     "output_type": "stream",
     "text": [
      "1\n",
      "2\n",
      "3\n"
     ]
    }
   ],
   "source": [
    "for el in my_set:\n",
    "    print(el)"
   ]
  },
  {
   "cell_type": "code",
   "execution_count": 23,
   "id": "58d7cc3b",
   "metadata": {},
   "outputs": [
    {
     "name": "stdout",
     "output_type": "stream",
     "text": [
      "<set_iterator object at 0x7f3ff82e2780>\n",
      "1\n"
     ]
    }
   ],
   "source": [
    "my_iter_set = iter(my_set)\n",
    "print(my_iter_set)\n",
    "print(next(my_iter_set))"
   ]
  },
  {
   "cell_type": "code",
   "execution_count": 24,
   "id": "5e76942b",
   "metadata": {},
   "outputs": [
    {
     "name": "stdout",
     "output_type": "stream",
     "text": [
      "2\n"
     ]
    }
   ],
   "source": [
    "print(next(my_iter_set))"
   ]
  },
  {
   "cell_type": "markdown",
   "id": "107cf276",
   "metadata": {},
   "source": [
    "Для использования функции iter её аргумент должен выполнять одно из условий:\n",
    "* объект поддерживает протокол итератора (иметь метод \\_\\_iter\\_\\_()) \n",
    "* объект поддерживает протокол последовательности (иметь метод \\_\\_getitem\\_\\_() с целочисленными аргументами, начинающимися с 0). \n",
    "\n",
    "Если он не поддерживает ни один из этих протоколов, возникает TypeError."
   ]
  },
  {
   "cell_type": "code",
   "execution_count": 1,
   "id": "846c9224",
   "metadata": {},
   "outputs": [
    {
     "ename": "TypeError",
     "evalue": "'int' object is not iterable",
     "output_type": "error",
     "traceback": [
      "\u001b[0;31m---------------------------------------------------------------------------\u001b[0m",
      "\u001b[0;31mTypeError\u001b[0m                                 Traceback (most recent call last)",
      "Cell \u001b[0;32mIn[1], line 1\u001b[0m\n\u001b[0;32m----> 1\u001b[0m \u001b[38;5;28;43miter\u001b[39;49m\u001b[43m(\u001b[49m\u001b[38;5;241;43m5\u001b[39;49m\u001b[43m)\u001b[49m\n",
      "\u001b[0;31mTypeError\u001b[0m: 'int' object is not iterable"
     ]
    }
   ],
   "source": [
    "iter(5)"
   ]
  },
  {
   "cell_type": "markdown",
   "id": "61ac3dfd",
   "metadata": {},
   "source": [
    "* Итераторы — это объекты, которые реализуют протокол итератора с помощью методов \\_\\_iter\\_\\_() и \\_\\_next\\_\\_().\n",
    "* Они обеспечивают последовательный доступ к элементам коллекции или последовательности.\n",
    "* Итераторы сохраняют внутреннее состояние и предоставляют способ извлечения следующего элемента в последовательности.\n",
    "* Метод \\_\\_iter\\_\\_() возвращает сам объект итератора, а метод \\_\\_next\\_\\_() возвращает следующий элемент или вызывает StopIteration, когда элементов больше нет.\n",
    "* Итераторы можно создать, определив класс с необходимыми методами или используя встроенные функции, такие как iter() и next()."
   ]
  },
  {
   "cell_type": "markdown",
   "id": "ec417a7a",
   "metadata": {},
   "source": [
    "### Генераторы"
   ]
  },
  {
   "cell_type": "markdown",
   "id": "b84b9917",
   "metadata": {},
   "source": [
    "Генераторы - это специальный вид функций, которые вместо использования оператора return используют оператор yield для возврата значений. \n",
    "\n",
    "Генератор создает объект, который может быть итерирован, и при каждой итерации возвращает следующее значение из последовательности."
   ]
  },
  {
   "cell_type": "code",
   "execution_count": 25,
   "id": "2d49cb4c",
   "metadata": {},
   "outputs": [
    {
     "name": "stdout",
     "output_type": "stream",
     "text": [
      "<generator object my_generator at 0x7f3ff8510f20>\n"
     ]
    }
   ],
   "source": [
    "def my_generator():\n",
    "    for i in range(1, 6):\n",
    "        yield i\n",
    "\n",
    "gen = my_generator()\n",
    "print(gen)"
   ]
  },
  {
   "cell_type": "code",
   "execution_count": 6,
   "id": "07c6d1c5",
   "metadata": {},
   "outputs": [
    {
     "name": "stdout",
     "output_type": "stream",
     "text": [
      "1\n",
      "2\n",
      "3\n"
     ]
    }
   ],
   "source": [
    "print(next(gen))\n",
    "print(next(gen))\n",
    "print(next(gen))"
   ]
  },
  {
   "cell_type": "code",
   "execution_count": 4,
   "id": "7e5d094c",
   "metadata": {},
   "outputs": [
    {
     "name": "stdout",
     "output_type": "stream",
     "text": [
      "1\n",
      "2\n",
      "3\n",
      "4\n",
      "5\n"
     ]
    }
   ],
   "source": [
    "gen = my_generator()\n",
    "for i in gen:\n",
    "    print(i)"
   ]
  },
  {
   "cell_type": "markdown",
   "id": "7981e2e9",
   "metadata": {},
   "source": [
    "* Генераторы — это особый тип итераторов, упрощающий процесс создания итераторов.\n",
    "* Генераторы предоставляют лаконичный и удобочитаемый способ создания итераторов без необходимости явного определения класса или реализации протокола итератора.\n",
    "* Они определяются с помощью функции вместе с ключевым словом yield вместо ключевого слова return.\n",
    "* Ключевое слово yield используется для получения значения из генератора и временной приостановки выполнения функции. Когда генератор вызывается снова, функция возобновляется с того места, где она остановилась.\n",
    "* Генераторы генерируют последовательность значений «на лету», по одному значению за раз, и автоматически сохраняют свое внутреннее состояние.\n",
    "* Когда вызывается функция-генератор, она возвращает объект-генератор."
   ]
  },
  {
   "cell_type": "markdown",
   "id": "63374c58",
   "metadata": {},
   "source": [
    "#### Интересные случаи"
   ]
  },
  {
   "cell_type": "code",
   "execution_count": 14,
   "id": "3486b041",
   "metadata": {},
   "outputs": [
    {
     "name": "stdout",
     "output_type": "stream",
     "text": [
      "<generator object <genexpr> at 0x7f3ff8511e70>\n"
     ]
    }
   ],
   "source": [
    "# Использование генератора дважды\n",
    "\n",
    "numbers = [1,2,3,4,5]\n",
    "\n",
    "squared_numbers = (number**2 for number in numbers)\n",
    "\n",
    "print(squared_numbers)"
   ]
  },
  {
   "cell_type": "code",
   "execution_count": 15,
   "id": "02b084c0",
   "metadata": {},
   "outputs": [
    {
     "name": "stdout",
     "output_type": "stream",
     "text": [
      "[1, 4, 9, 16, 25]\n",
      "[]\n"
     ]
    }
   ],
   "source": [
    "print(list(squared_numbers))\n",
    "\n",
    "print(list(squared_numbers))"
   ]
  },
  {
   "cell_type": "code",
   "execution_count": 8,
   "id": "e78a52f6",
   "metadata": {},
   "outputs": [
    {
     "name": "stdout",
     "output_type": "stream",
     "text": [
      "True\n",
      "False\n"
     ]
    }
   ],
   "source": [
    "# Проверка вхождения элемента в генератор\n",
    "\n",
    "squared_numbers = (number**2 for number in numbers)\n",
    "\n",
    "print(25 in squared_numbers)\n",
    "\n",
    "print(25 in squared_numbers)"
   ]
  },
  {
   "cell_type": "code",
   "execution_count": 13,
   "id": "15953937",
   "metadata": {},
   "outputs": [
    {
     "name": "stdout",
     "output_type": "stream",
     "text": [
      "True\n"
     ]
    }
   ],
   "source": [
    "# как вернуть генератор к началу\n",
    "squared_numbers = (number**2 for number in numbers)\n",
    "\n",
    "print(25 in squared_numbers)"
   ]
  },
  {
   "cell_type": "code",
   "execution_count": 26,
   "id": "c5b7681c",
   "metadata": {},
   "outputs": [
    {
     "name": "stdout",
     "output_type": "stream",
     "text": [
      "0\n",
      "1\n",
      "2\n",
      "3\n",
      "4\n",
      "5\n"
     ]
    }
   ],
   "source": [
    "# генератор бесконечной последовательности\n",
    "def infinite_sequence():\n",
    "    num = 0\n",
    "    while True:\n",
    "        yield num\n",
    "        num += 1\n",
    "\n",
    "# Использование генератора\n",
    "for num in infinite_sequence():\n",
    "    print(num)\n",
    "    if num >= 5:\n",
    "        break"
   ]
  },
  {
   "cell_type": "markdown",
   "id": "3468ef1f",
   "metadata": {},
   "source": [
    "***\n",
    "***"
   ]
  },
  {
   "cell_type": "markdown",
   "id": "1c165a2d",
   "metadata": {},
   "source": [
    "Замыкания (closures) и декораторы (decorators) - это два мощных концепта в Python, которые помогают в создании гибких и переиспользуемых функций."
   ]
  },
  {
   "cell_type": "markdown",
   "id": "ee1299cb",
   "metadata": {},
   "source": [
    "### Замыкания"
   ]
  },
  {
   "cell_type": "markdown",
   "id": "eb1e23a3",
   "metadata": {},
   "source": [
    "Замыкание - это функция, которая запоминает значение в окружении, где она была определена. Оно может получать доступ и использовать переменные из внешней функции, даже после того, как внешняя функция завершила свое выполнение. Замыкания полезны для создания функций с данными, которые могут быть скрыты или сохранены внутри функции."
   ]
  },
  {
   "cell_type": "code",
   "execution_count": 31,
   "id": "d8dd3efe",
   "metadata": {},
   "outputs": [
    {
     "name": "stdout",
     "output_type": "stream",
     "text": [
      "15\n"
     ]
    }
   ],
   "source": [
    "def outer_function(x):\n",
    "    def inner_function(y):\n",
    "        return x + y\n",
    "    return inner_function\n",
    "\n",
    "add_10 = outer_function(10)\n",
    "print(add_10(5))"
   ]
  },
  {
   "cell_type": "code",
   "execution_count": 32,
   "id": "35e73c6e",
   "metadata": {},
   "outputs": [
    {
     "data": {
      "text/plain": [
       "20"
      ]
     },
     "execution_count": 32,
     "metadata": {},
     "output_type": "execute_result"
    }
   ],
   "source": [
    "add_10(10)"
   ]
  },
  {
   "cell_type": "markdown",
   "id": "7c2d716c",
   "metadata": {},
   "source": [
    "Замыкания полезны в ситуациях, когда вам требуется сохранять состояние или какие-либо данные между вызовами функции. Они позволяют создавать функции с \"памятью\", которые могут запоминать информацию о предыдущих вызовах или выполнять некоторые действия на основе сохраненных данных."
   ]
  },
  {
   "cell_type": "code",
   "execution_count": null,
   "id": "dc3d4893",
   "metadata": {},
   "outputs": [],
   "source": [
    "def counter():\n",
    "    # ваш код тут\n",
    "\n",
    "# Создаем экземпляр счетчика\n",
    "my_counter = counter()\n",
    "\n",
    "my_counter()  # Текущее значение счетчика: 1\n",
    "my_counter()  # Текущее значение счетчика: 2\n",
    "my_counter()  # Текущее значение счетчика: 3"
   ]
  },
  {
   "cell_type": "markdown",
   "id": "c894f19d",
   "metadata": {},
   "source": [
    "#### Интересные случаи"
   ]
  },
  {
   "cell_type": "code",
   "execution_count": 33,
   "id": "2ddb5a8c",
   "metadata": {},
   "outputs": [
    {
     "name": "stdout",
     "output_type": "stream",
     "text": [
      "30\n"
     ]
    }
   ],
   "source": [
    "def outer_function(x):\n",
    "    def inner_function(y):\n",
    "        return x + y\n",
    "    x += 15\n",
    "    return inner_function\n",
    "\n",
    "closure = outer_function(10)\n",
    "print(closure(5))"
   ]
  },
  {
   "cell_type": "code",
   "execution_count": 58,
   "id": "5ccedb0c",
   "metadata": {},
   "outputs": [
    {
     "name": "stdout",
     "output_type": "stream",
     "text": [
      "3\n"
     ]
    }
   ],
   "source": [
    "# задача с собеседования\n",
    "def outer():\n",
    "    funcs = []\n",
    "    for i in range(4):\n",
    "        def func(a = i): \n",
    "            print(a)\n",
    "        funcs.append(func)\n",
    "    return funcs\n",
    "\n",
    "outer()[1]()"
   ]
  },
  {
   "cell_type": "code",
   "execution_count": 54,
   "id": "b6cef04b",
   "metadata": {},
   "outputs": [
    {
     "name": "stdout",
     "output_type": "stream",
     "text": [
      "2\n"
     ]
    }
   ],
   "source": [
    "outer()[2]()"
   ]
  },
  {
   "cell_type": "markdown",
   "id": "c328f9f7",
   "metadata": {},
   "source": [
    "### Декораторы"
   ]
  },
  {
   "cell_type": "markdown",
   "id": "5c4ea865",
   "metadata": {},
   "source": [
    "Декораторы позволяют изменять поведение функции или класса, обертывая их вокруг других функций. Они представляют собой функции, которые принимают функцию в качестве аргумента и возвращают другую функцию. Декораторы широко используются для добавления функциональности к существующим функциям без изменения их исходного кода."
   ]
  },
  {
   "cell_type": "code",
   "execution_count": 61,
   "id": "be6d834d",
   "metadata": {},
   "outputs": [
    {
     "name": "stdout",
     "output_type": "stream",
     "text": [
      "Дополнительный код, выполняемый перед вызовом функции\n",
      "Оригинальная функция\n",
      "Дополнительный код, выполняемый после вызова функции\n"
     ]
    }
   ],
   "source": [
    "def decorator_function(original_function):\n",
    "    def wrapper_function():\n",
    "        print(\"Дополнительный код, выполняемый перед вызовом функции\")\n",
    "        original_function()\n",
    "        print(\"Дополнительный код, выполняемый после вызова функции\")\n",
    "    return wrapper_function\n",
    "\n",
    "@decorator_function\n",
    "def my_function():\n",
    "    print(\"Оригинальная функция\")\n",
    "\n",
    "my_function()"
   ]
  },
  {
   "cell_type": "code",
   "execution_count": 62,
   "id": "71495bf5",
   "metadata": {},
   "outputs": [
    {
     "name": "stdout",
     "output_type": "stream",
     "text": [
      "Время работы функции - 3.0007896423339844 с.\n"
     ]
    }
   ],
   "source": [
    "# декоратор, выводящий время работы функции\n",
    "from time import time, sleep\n",
    "\n",
    "def my_timer(func):\n",
    "    def wrapper_function():\n",
    "        start_time = time()\n",
    "        func()\n",
    "        print(f\"Время работы функции - {time() - start_time} с.\")\n",
    "    return wrapper_function\n",
    "\n",
    "@my_timer\n",
    "def my_func():\n",
    "    sleep(3)\n",
    "\n",
    "my_func()"
   ]
  },
  {
   "cell_type": "code",
   "execution_count": 64,
   "id": "f13aaf90",
   "metadata": {},
   "outputs": [
    {
     "name": "stdout",
     "output_type": "stream",
     "text": [
      "Функция my_func выполняется 3.00 секунд.\n"
     ]
    }
   ],
   "source": [
    "def my_timer(func):\n",
    "    def wrapper(*args, **kwargs):\n",
    "        start_time = time()\n",
    "        result = func(*args, **kwargs)\n",
    "        end_time = time()\n",
    "        print(f\"Функция {func.__name__} выполняется {end_time - start_time:.2f} секунд.\")\n",
    "        return result\n",
    "    return wrapper\n",
    "\n",
    "@my_timer\n",
    "def my_func():\n",
    "    sleep(3)\n",
    "\n",
    "my_func()"
   ]
  },
  {
   "cell_type": "code",
   "execution_count": 69,
   "id": "3e0729d7",
   "metadata": {},
   "outputs": [],
   "source": [
    "import datetime\n",
    "def decor(func):    \n",
    "    def wrap():\n",
    "        t1 = datetime.datetime.now()\n",
    "        sleep(3)\n",
    "        func()\n",
    "        t2 = datetime.datetime.now() - t1\n",
    "        print('Время выполнения:', t2)\n",
    "    return wrap"
   ]
  },
  {
   "cell_type": "code",
   "execution_count": 70,
   "id": "00244ab4",
   "metadata": {},
   "outputs": [
    {
     "name": "stdout",
     "output_type": "stream",
     "text": [
      "Время выполнения: 0:00:06.004095\n"
     ]
    }
   ],
   "source": [
    "@decor\n",
    "def my_func():\n",
    "    sleep(3)\n",
    "\n",
    "my_func()"
   ]
  },
  {
   "cell_type": "code",
   "execution_count": null,
   "id": "829e98e7",
   "metadata": {},
   "outputs": [],
   "source": []
  },
  {
   "cell_type": "markdown",
   "id": "58ce5f70",
   "metadata": {},
   "source": [
    "https://docs.google.com/forms/d/e/1FAIpQLSddDUfq-StjgH13rWy4usdnuV3LpRaNKP8uCG8IdJQ3WH122Q/viewform"
   ]
  },
  {
   "cell_type": "code",
   "execution_count": null,
   "id": "f6fd8975",
   "metadata": {},
   "outputs": [],
   "source": []
  },
  {
   "cell_type": "code",
   "execution_count": null,
   "id": "020f9558",
   "metadata": {},
   "outputs": [],
   "source": []
  },
  {
   "cell_type": "code",
   "execution_count": null,
   "id": "9b5c7c5a",
   "metadata": {},
   "outputs": [],
   "source": []
  },
  {
   "cell_type": "code",
   "execution_count": null,
   "id": "7ed6f571",
   "metadata": {},
   "outputs": [],
   "source": []
  },
  {
   "cell_type": "code",
   "execution_count": null,
   "id": "29fba654",
   "metadata": {},
   "outputs": [],
   "source": []
  },
  {
   "cell_type": "code",
   "execution_count": null,
   "id": "9ff1b12e",
   "metadata": {},
   "outputs": [],
   "source": []
  },
  {
   "cell_type": "code",
   "execution_count": null,
   "id": "2c71aee1",
   "metadata": {},
   "outputs": [],
   "source": []
  },
  {
   "cell_type": "code",
   "execution_count": 22,
   "id": "49a3f0de",
   "metadata": {},
   "outputs": [
    {
     "name": "stdout",
     "output_type": "stream",
     "text": [
      "Время выполнения функции - 3.001892328262329 c.\n"
     ]
    }
   ],
   "source": [
    "from time import time, sleep\n",
    "\n",
    "def my_timer(func):\n",
    "    def wrapper_function():\n",
    "        start_time = time()\n",
    "        func()\n",
    "        print(f\"Время выполнения функции - {time() - start_time} c.\")\n",
    "    return wrapper_function\n",
    "\n",
    "@my_timer\n",
    "def my_function():\n",
    "    sleep(3)\n",
    "\n",
    "my_function()"
   ]
  }
 ],
 "metadata": {
  "kernelspec": {
   "display_name": "Python 3 (ipykernel)",
   "language": "python",
   "name": "python3"
  },
  "language_info": {
   "codemirror_mode": {
    "name": "ipython",
    "version": 3
   },
   "file_extension": ".py",
   "mimetype": "text/x-python",
   "name": "python",
   "nbconvert_exporter": "python",
   "pygments_lexer": "ipython3",
   "version": "3.10.6"
  }
 },
 "nbformat": 4,
 "nbformat_minor": 5
}
