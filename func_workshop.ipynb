{
 "cells": [
  {
   "cell_type": "markdown",
   "id": "574519c4",
   "metadata": {},
   "source": [
    "<div style=\"text-align: right\"> Марина Архипцева </div>\n",
    "\n",
    "### Практикум по функциональному программированию\n",
    "\n",
    "**План**\n",
    "\n",
    "1. Введение в функции\n",
    "\n",
    "2. Итераторы и генераторы\n",
    "\n",
    "3. Замыкания\n",
    "\n",
    "4. Декораторы\n",
    "***"
   ]
  },
  {
   "cell_type": "markdown",
   "id": "3a16cfb1",
   "metadata": {},
   "source": [
    "1. Введение в функции:\n",
    "- Обзор основ по функциям."
   ]
  },
  {
   "cell_type": "markdown",
   "id": "acd50b10",
   "metadata": {},
   "source": [
    "**Функции в Python** - это удобный способ организации и структурирования кода. Они позволяют объединить повторяющиеся фрагменты кода в отдельные блоки, которые можно вызывать из разных мест программы.\n",
    "\n",
    "* Повторное использование кода\n",
    "* Модульность\n",
    "* Абстракция\n",
    "* Улучшение структуры кода\n",
    "* Повышение эффективности\n",
    "* Разделение ответственности"
   ]
  },
  {
   "cell_type": "code",
   "execution_count": null,
   "id": "ebfafb18",
   "metadata": {},
   "outputs": [],
   "source": [
    "# заголовок функции\n",
    "def имя_функции(параметры):\n",
    "    # тело функции - выполняемые операции\n",
    "    # return возвращаемое значение (если необходимо)"
   ]
  },
  {
   "cell_type": "code",
   "execution_count": null,
   "id": "12ce4923",
   "metadata": {},
   "outputs": [],
   "source": [
    "def sum_numbers(a, b):\n",
    "    result = a + b\n",
    "    return result"
   ]
  },
  {
   "cell_type": "markdown",
   "id": "1eb8b563",
   "metadata": {},
   "source": [
    "***"
   ]
  },
  {
   "cell_type": "markdown",
   "id": "024b38c6",
   "metadata": {},
   "source": [
    "2. Итераторы и генераторы:\n",
    "- Понятие итераторов и генераторов.\n",
    "- Примеры использования итераторов и генераторов для более эффективного и удобного кода.\n",
    "- Оператор yield и его использование в создании генераторов."
   ]
  },
  {
   "cell_type": "markdown",
   "id": "b8cfe0f4",
   "metadata": {},
   "source": [
    "**Последовательности и итерируемые объекты**\n",
    "\n",
    "Последовательность — это упорядоченный набор элементов, в котором каждый элемент идентифицируется своей позицией или индексом.\n",
    "\n",
    "Существует три основных типа последовательностей: списки, кортежи и объекты-диапазоны. Дополнительные типы последовательностей: предназначенные для обработки двоичных данных (bytes, bytearray, memoryview) и текстовые строки."
   ]
  },
  {
   "cell_type": "markdown",
   "id": "1e495440",
   "metadata": {},
   "source": [
    "Итерируемый объект — это любой объект, который можно пройти в цикле или проитерировать. Он предоставляет способ доступа к своим элементам по одному, обычно через протоколы итераций, такие как циклы, или используя встроенные функции, которые используют итерирование.\n",
    "\n",
    "В Python многие объекты могут быть итерируемыми, включая последовательности, а также другие типы, такие как словари и множества."
   ]
  },
  {
   "cell_type": "markdown",
   "id": "1ff7d55a",
   "metadata": {},
   "source": [
    "**Итераторы**\n",
    "\n",
    "Итераторы — это объекты, которые реализуют протокол итератора, позволяя перебирать набор элементов по одному за раз. Они предоставляют способ последовательного доступа к элементам последовательности без необходимости знать базовую структуру данных или детали реализации.\n",
    "\n",
    "Чтобы создать итератор в Python, вам нужно определить класс, который имеет методы \\_\\_iter\\_\\_() и \\_\\_next\\_\\_(). Метод \\_\\_iter\\_\\_() возвращает сам объект итератора, а метод \\_\\_next\\_\\_() возвращает следующий элемент в последовательности или вызывает исключение StopIteration, когда элементов больше нет."
   ]
  },
  {
   "cell_type": "code",
   "execution_count": null,
   "id": "7a380023",
   "metadata": {},
   "outputs": [],
   "source": [
    "# Кастомный итератор\n",
    "class MyIterator:\n",
    "    def __init__(self, data):\n",
    "        self.data = data\n",
    "        self.index = 0\n",
    "\n",
    "    def __iter__(self):\n",
    "        '''Возвращает объект итератора'''\n",
    "        return self\n",
    "\n",
    "    def __next__(self):\n",
    "        '''Возвращает следующий элемент или прекращает итерирование'''\n",
    "        if self.index >= len(self.data):\n",
    "            raise StopIteration\n",
    "        value = self.data[self.index]\n",
    "        self.index += 1\n",
    "        return value"
   ]
  },
  {
   "cell_type": "code",
   "execution_count": null,
   "id": "44982019",
   "metadata": {},
   "outputs": [],
   "source": [
    "my_iterator = MyIterator([1, 2, 3, 4, 5])\n",
    "\n",
    "for item in my_iterator:\n",
    "    print(item)"
   ]
  },
  {
   "cell_type": "markdown",
   "id": "7bdc199f",
   "metadata": {},
   "source": [
    "Можно использовать встроенную функцию iter() и функцию next() для работы с итераторами.\n",
    "\n",
    "Функция iter() возвращает объект итератора из итерируемого объекта, а функция next() извлекает из итератора следующий элемент."
   ]
  },
  {
   "cell_type": "code",
   "execution_count": null,
   "id": "b10818cc",
   "metadata": {},
   "outputs": [],
   "source": [
    "my_set = {1, 2, 3}\n",
    "next(my_set)"
   ]
  },
  {
   "cell_type": "code",
   "execution_count": null,
   "id": "cd1670c3",
   "metadata": {},
   "outputs": [],
   "source": [
    "# for самостоятельно вызывает next и обрабатывает исключение StopIteration\n",
    "for el in my_set:\n",
    "    print(el)"
   ]
  },
  {
   "cell_type": "code",
   "execution_count": null,
   "id": "6a84e15b",
   "metadata": {},
   "outputs": [],
   "source": [
    "my_iter_set = iter(my_set)\n",
    "print(my_iter_set)"
   ]
  },
  {
   "cell_type": "code",
   "execution_count": null,
   "id": "8f934aea",
   "metadata": {},
   "outputs": [],
   "source": [
    "print(next(my_iter_set))"
   ]
  },
  {
   "cell_type": "markdown",
   "id": "c6b2b290",
   "metadata": {},
   "source": [
    "Для использования функции iter её аргумент должен выполнять одно из условий:\n",
    "* объект поддерживает протокол итератора (иметь метод \\_\\_iter\\_\\_()) \n",
    "* объект поддерживает протокол последовательности (иметь метод \\_\\_getitem\\_\\_() с целочисленными аргументами, начинающимися с 0). \n",
    "\n",
    "Если он не поддерживает ни один из этих протоколов, возникает TypeError."
   ]
  },
  {
   "cell_type": "code",
   "execution_count": null,
   "id": "6aef7408",
   "metadata": {},
   "outputs": [],
   "source": [
    "iter(5)"
   ]
  },
  {
   "cell_type": "markdown",
   "id": "97da57d0",
   "metadata": {},
   "source": [
    "* Итераторы — это объекты, которые реализуют протокол итератора с помощью методов \\_\\_iter\\_\\_() и \\_\\_next\\_\\_().\n",
    "* Они обеспечивают последовательный доступ к элементам коллекции или последовательности.\n",
    "* Итераторы сохраняют внутреннее состояние и предоставляют способ извлечения следующего элемента в последовательности.\n",
    "* Метод \\_\\_iter\\_\\_() возвращает сам объект итератора, а метод \\_\\_next\\_\\_() возвращает следующий элемент или вызывает StopIteration, когда элементов больше нет.\n",
    "* Итераторы можно создать, определив класс с необходимыми методами или используя встроенные функции, такие как iter() и next()."
   ]
  },
  {
   "cell_type": "markdown",
   "id": "58c4e495",
   "metadata": {},
   "source": [
    "**Генераторы** - это специальный вид функций, которые вместо использования оператора return используют оператор yield для возврата значений. \n",
    "\n",
    "Генератор создает объект, который может быть итерирован, и при каждой итерации возвращает следующее значение из последовательности."
   ]
  },
  {
   "cell_type": "code",
   "execution_count": null,
   "id": "6e9210f2",
   "metadata": {},
   "outputs": [],
   "source": [
    "def my_generator():\n",
    "    for i in range(3):\n",
    "        yield i\n",
    "\n",
    "gen = my_generator()\n",
    "print(gen)"
   ]
  },
  {
   "cell_type": "code",
   "execution_count": null,
   "id": "3313c35b",
   "metadata": {},
   "outputs": [],
   "source": [
    "print(next(gen))"
   ]
  },
  {
   "cell_type": "code",
   "execution_count": null,
   "id": "c7c431cb",
   "metadata": {},
   "outputs": [],
   "source": [
    "gen = my_generator()\n",
    "for i in gen:\n",
    "    print(i)"
   ]
  },
  {
   "cell_type": "markdown",
   "id": "66045150",
   "metadata": {},
   "source": [
    "* Генераторы предоставляют лаконичный и удобочитаемый способ создания итераторов без необходимости явного определения класса или реализации протокола итератора.\n",
    "* Они определяются с помощью функции вместе с ключевым словом yield вместо ключевого слова return.\n",
    "* Ключевое слово yield используется для получения значения из генератора и временной приостановки выполнения функции. Когда генератор вызывается снова, функция возобновляется с того места, где она остановилась.\n",
    "* Генераторы генерируют последовательность значений «на лету», по одному значению за раз, и автоматически сохраняют свое внутреннее состояние.\n",
    "* Когда вызывается функция-генератор, она возвращает объект-генератор."
   ]
  },
  {
   "cell_type": "markdown",
   "id": "6cb49146",
   "metadata": {},
   "source": [
    "**Интересные случаи**"
   ]
  },
  {
   "cell_type": "code",
   "execution_count": null,
   "id": "1c23f66c",
   "metadata": {},
   "outputs": [],
   "source": [
    "# Использование генератора дважды\n",
    "\n",
    "numbers = [1,2,3,4,5]\n",
    "\n",
    "squared_numbers = (number**2 for number in numbers)\n",
    "\n",
    "print(squared_numbers)"
   ]
  },
  {
   "cell_type": "code",
   "execution_count": null,
   "id": "a238023c",
   "metadata": {},
   "outputs": [],
   "source": [
    "print(list(squared_numbers))\n",
    "\n",
    "print(list(squared_numbers))"
   ]
  },
  {
   "cell_type": "code",
   "execution_count": null,
   "id": "a34e8353",
   "metadata": {},
   "outputs": [],
   "source": [
    "# Проверка вхождения элемента в генератор\n",
    "\n",
    "squared_numbers = (number**2 for number in numbers)\n",
    "\n",
    "print(25 in squared_numbers)\n",
    "\n",
    "print(25 in squared_numbers)"
   ]
  },
  {
   "cell_type": "code",
   "execution_count": null,
   "id": "2a8fe29a",
   "metadata": {},
   "outputs": [],
   "source": [
    "# как вернуть генератор к началу\n",
    "squared_numbers = (number**2 for number in numbers)\n",
    "\n",
    "print(25 in squared_numbers)"
   ]
  },
  {
   "cell_type": "code",
   "execution_count": null,
   "id": "93408b2d",
   "metadata": {},
   "outputs": [],
   "source": [
    "# генератор бесконечной последовательности\n",
    "def infinite_sequence():\n",
    "    num = 0\n",
    "    while True:\n",
    "        yield num\n",
    "        num += 1\n",
    "\n",
    "# Использование генератора\n",
    "for num in infinite_sequence():\n",
    "    print(num)\n",
    "    if num >= 5:\n",
    "        break"
   ]
  },
  {
   "cell_type": "markdown",
   "id": "44731de4",
   "metadata": {},
   "source": [
    "Генератор вместо рекурсии"
   ]
  },
  {
   "cell_type": "code",
   "execution_count": null,
   "id": "70dbf739",
   "metadata": {},
   "outputs": [],
   "source": [
    "def fib_recursion(n):\n",
    "    if n == 0:\n",
    "        return 0\n",
    "    elif n == 1:\n",
    "        return 1\n",
    "    else:\n",
    "        return fib_recursion(n-1) + fib_recursion(n-2)"
   ]
  },
  {
   "cell_type": "code",
   "execution_count": null,
   "id": "0d2e53ba",
   "metadata": {},
   "outputs": [],
   "source": [
    "%%time\n",
    "fib_recursion(30)"
   ]
  },
  {
   "cell_type": "code",
   "execution_count": null,
   "id": "7c054076",
   "metadata": {},
   "outputs": [],
   "source": [
    "def fibonacci(n):\n",
    "    fib1, fib2 = 0, 1\n",
    "    for _ in range(n):\n",
    "        fib1, fib2 = fib2, fib1 + fib2\n",
    "        yield fib1"
   ]
  },
  {
   "cell_type": "code",
   "execution_count": null,
   "id": "1c483b31",
   "metadata": {},
   "outputs": [],
   "source": [
    "%%time\n",
    "[i for i in fibonacci(30)][-1]"
   ]
  },
  {
   "cell_type": "markdown",
   "id": "048acf83",
   "metadata": {},
   "source": [
    "Если вы имеете дело с задачей, при которой:\n",
    "\n",
    "* предполагается работа с коллекцией, элементы которой могут быть описаны с помощью некоторого правила генерации\n",
    "\n",
    "* предполагается работа с коллекцией поэлементно или с выборкой, размер которой сильно меньше общего количества всех элементов коллекции и вы не завязаны на конкретные позиции этих элементов в ней, а просто на факт получения этих элементов\n",
    "\n",
    "Генераторы — это то, что вам нужно.\n",
    "\n",
    "Если вы имеете дело с задачей, при которой:\n",
    "\n",
    "* точно предполагается работа сразу со всеми элементами коллекции (или подавляющим большинством) и, как следствие, нужно хранить коллекцию в памяти целиком\n",
    "\n",
    "Лучше использовать другие типы данных коллекций: списки, кортежи, множества и т.д."
   ]
  },
  {
   "cell_type": "markdown",
   "id": "e182c1be",
   "metadata": {},
   "source": [
    "***"
   ]
  },
  {
   "cell_type": "markdown",
   "id": "05e3170e",
   "metadata": {},
   "source": [
    "**3. Замыкания**\n",
    "- Понятие замыканий и их роль.\n",
    "- Примеры использования замыканий для создания функций с сохранением состояния.\n",
    "- Разбор задач, в которых замыкания могут быть использованы для решения сложных задач или оптимизации кода."
   ]
  },
  {
   "cell_type": "markdown",
   "id": "df715aeb",
   "metadata": {},
   "source": [
    "Замыкание - это функция, которая запоминает значение в окружении, где она была определена. Оно может получать доступ и использовать переменные из внешней функции, даже после того, как внешняя функция завершила свое выполнение. Замыкания полезны для создания функций с данными, которые могут быть скрыты или сохранены внутри функции.\n",
    "\n",
    "Замыкание возникает, когда функция объявляется внутри другой функции и использует переменные из внешней функции. В этом случае внешняя функция создает замыкание, которое хранит ссылку на внешние переменные, используемые во внутренней функции. "
   ]
  },
  {
   "cell_type": "code",
   "execution_count": null,
   "id": "2ba26f7e",
   "metadata": {},
   "outputs": [],
   "source": [
    "def outer_function(x):\n",
    "    def inner_function(y):\n",
    "        return x + y\n",
    "    return inner_function\n",
    "\n",
    "add_10 = outer_function(10)\n",
    "print(add_10(5))"
   ]
  },
  {
   "cell_type": "code",
   "execution_count": null,
   "id": "1b9f823a",
   "metadata": {},
   "outputs": [],
   "source": [
    "add_10(10)"
   ]
  },
  {
   "cell_type": "markdown",
   "id": "9714cea9",
   "metadata": {},
   "source": [
    "Замыкания полезны в ситуациях, когда вам требуется сохранять состояние или какие-либо данные между вызовами функции. Они позволяют создавать функции с \"памятью\", которые могут запоминать информацию о предыдущих вызовах или выполнять некоторые действия на основе сохраненных данных."
   ]
  },
  {
   "cell_type": "code",
   "execution_count": null,
   "id": "ece9b080",
   "metadata": {},
   "outputs": [],
   "source": [
    "# Реализовать функцию - счетчик\n",
    "def counter():\n",
    "    # ваш код тут\n",
    "\n",
    "# Создаем экземпляр счетчика\n",
    "my_counter = counter()\n",
    "\n",
    "print(my_counter())  # 1\n",
    "print(my_counter())  # 2\n",
    "print(my_counter())  # 3"
   ]
  },
  {
   "cell_type": "markdown",
   "id": "90d11424",
   "metadata": {},
   "source": [
    "*Что изменить в функции, чтобы счетчик умел начинать отсчет с произвольного значения и при этом нам не потребовалось бы менять существующий код вызовов?*"
   ]
  },
  {
   "cell_type": "code",
   "execution_count": null,
   "id": "0d2d3d63",
   "metadata": {},
   "outputs": [],
   "source": [
    "# !!! Внимание-внимание\n",
    "def outer_function(x):\n",
    "    def inner_function(y):\n",
    "        return x + y\n",
    "    x += 15\n",
    "    return inner_function\n",
    "\n",
    "closure = outer_function(10)"
   ]
  },
  {
   "cell_type": "code",
   "execution_count": null,
   "id": "d05f572e",
   "metadata": {},
   "outputs": [],
   "source": [
    "print(closure(5))"
   ]
  },
  {
   "cell_type": "code",
   "execution_count": null,
   "id": "f12c1954",
   "metadata": {},
   "outputs": [],
   "source": []
  },
  {
   "cell_type": "code",
   "execution_count": null,
   "id": "d3f4fc26",
   "metadata": {},
   "outputs": [],
   "source": [
    "# Реализовать функцию, удаляющую заданные символы в начале и конце строки\n",
    "def strip_string"
   ]
  },
  {
   "cell_type": "code",
   "execution_count": null,
   "id": "f59ed3d5",
   "metadata": {},
   "outputs": [],
   "source": [
    "strip_space = strip_string()\n",
    "strip_all = strip_string(\" !?,.;\")"
   ]
  },
  {
   "cell_type": "code",
   "execution_count": null,
   "id": "a94fe7cd",
   "metadata": {},
   "outputs": [],
   "source": [
    "print(strip_space(' Hello, World! '))"
   ]
  },
  {
   "cell_type": "code",
   "execution_count": null,
   "id": "11ad0258",
   "metadata": {},
   "outputs": [],
   "source": [
    "print(strip_all(' Hello, World! '))"
   ]
  },
  {
   "cell_type": "code",
   "execution_count": null,
   "id": "0b373e76",
   "metadata": {},
   "outputs": [],
   "source": []
  },
  {
   "cell_type": "code",
   "execution_count": null,
   "id": "8dc91996",
   "metadata": {},
   "outputs": [],
   "source": [
    "# Задача с собеседования на понимание замыканий\n",
    "def outer():\n",
    "    funcs = []\n",
    "    for i in range(4):\n",
    "        def func(): \n",
    "            print(i)\n",
    "        funcs.append(func)\n",
    "    return funcs"
   ]
  },
  {
   "cell_type": "code",
   "execution_count": null,
   "id": "ceba9bae",
   "metadata": {},
   "outputs": [],
   "source": [
    "outer()[1]()"
   ]
  },
  {
   "cell_type": "code",
   "execution_count": null,
   "id": "5bde6e45",
   "metadata": {},
   "outputs": [],
   "source": [
    "outer()[2]()"
   ]
  },
  {
   "cell_type": "code",
   "execution_count": null,
   "id": "4c79a7e3",
   "metadata": {},
   "outputs": [],
   "source": []
  },
  {
   "cell_type": "code",
   "execution_count": null,
   "id": "fed43839",
   "metadata": {},
   "outputs": [],
   "source": [
    "# Похожая задача\n",
    "def func2():\n",
    "    result = []\n",
    "    for i in range(4):\n",
    "        def f(x):\n",
    "            return x * i\n",
    "        result.append(f)\n",
    "    i = 5\n",
    "    return result\n",
    "\n",
    "print([m(2) for m in func2()])"
   ]
  },
  {
   "cell_type": "markdown",
   "id": "850c296d",
   "metadata": {},
   "source": [
    "***"
   ]
  },
  {
   "cell_type": "markdown",
   "id": "ad4cb9ce",
   "metadata": {},
   "source": [
    "**4. Декораторы:**\n",
    "- Понятие декораторов и их использование.\n",
    "- Примеры использования декораторов."
   ]
  },
  {
   "cell_type": "markdown",
   "id": "0547a6a1",
   "metadata": {},
   "source": [
    "Декораторы позволяют изменять поведение функции или класса, обертывая их вокруг других функций. Они представляют собой функции, которые принимают функцию в качестве аргумента и возвращают другую функцию. Декораторы широко используются для добавления функциональности к существующим функциям без изменения их исходного кода."
   ]
  },
  {
   "cell_type": "code",
   "execution_count": null,
   "id": "ac33d4dc",
   "metadata": {},
   "outputs": [],
   "source": [
    "# Пример простейшего декоратора\n",
    "def decorator_function(original_function):\n",
    "    def wrapper_function():\n",
    "        print(\"Дополнительный код, выполняемый перед вызовом функции\")\n",
    "        original_function()\n",
    "        print(\"Дополнительный код, выполняемый после вызова функции\")\n",
    "    return wrapper_function"
   ]
  },
  {
   "cell_type": "code",
   "execution_count": null,
   "id": "6182bde4",
   "metadata": {},
   "outputs": [],
   "source": [
    "def my_function():\n",
    "    print(\"Оригинальная функция\")\n",
    "\n",
    "decorated_func = decorator_function(my_function)\n",
    "decorated_func()"
   ]
  },
  {
   "cell_type": "code",
   "execution_count": null,
   "id": "859ee6b9",
   "metadata": {},
   "outputs": [],
   "source": [
    "@decorator_function\n",
    "def my_function():\n",
    "    print(\"Оригинальная функция\")\n",
    "\n",
    "my_function()"
   ]
  },
  {
   "cell_type": "code",
   "execution_count": null,
   "id": "691c6e2c",
   "metadata": {},
   "outputs": [],
   "source": [
    "help(my_function)"
   ]
  },
  {
   "cell_type": "markdown",
   "id": "b5807e9a",
   "metadata": {},
   "source": [
    "Cовет: лучше всегда при написании декораторов использовать functools.wraps. Эта функция копирует всю служебную информацию о декорируемой функции в функцию-декоратор (название функции, docstring, список и типы аргументов и т.д)."
   ]
  },
  {
   "cell_type": "markdown",
   "id": "fca7d68c",
   "metadata": {},
   "source": [
    "Примеры декораторов:\n",
    "1. время выполнение функции\n",
    "2. логирование\n",
    "3. retry (повтор вызова функции в случае сбоя)\n",
    "4. кэширование результата функции (готовый есть в functools)"
   ]
  },
  {
   "cell_type": "code",
   "execution_count": null,
   "id": "47391a91",
   "metadata": {},
   "outputs": [],
   "source": [
    "# время выполнения функции"
   ]
  },
  {
   "cell_type": "code",
   "execution_count": null,
   "id": "cb05059a",
   "metadata": {},
   "outputs": [],
   "source": [
    "# логирование"
   ]
  },
  {
   "cell_type": "code",
   "execution_count": null,
   "id": "70855e23",
   "metadata": {},
   "outputs": [],
   "source": [
    "# retry"
   ]
  },
  {
   "cell_type": "code",
   "execution_count": null,
   "id": "f456d0ea",
   "metadata": {},
   "outputs": [],
   "source": [
    "# а если количество попыток может меняться для разных функций?"
   ]
  }
 ],
 "metadata": {
  "kernelspec": {
   "display_name": "Python 3 (ipykernel)",
   "language": "python",
   "name": "python3"
  },
  "language_info": {
   "codemirror_mode": {
    "name": "ipython",
    "version": 3
   },
   "file_extension": ".py",
   "mimetype": "text/x-python",
   "name": "python",
   "nbconvert_exporter": "python",
   "pygments_lexer": "ipython3",
   "version": "3.10.6"
  }
 },
 "nbformat": 4,
 "nbformat_minor": 5
}
