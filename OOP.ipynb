{
 "cells": [
  {
   "cell_type": "markdown",
   "id": "1f5227b3",
   "metadata": {},
   "source": [
    "**План**\n",
    "\n",
    "- Полиморфизм в Python\n",
    "- Cтатические методы\n",
    "- Декораторы класса: `@property`, `@classmethod`\n",
    "- Инкапсуляция\n",
    "- Исключения\n",
    "- Ответы на вопросы"
   ]
  },
  {
   "cell_type": "markdown",
   "id": "fed97519",
   "metadata": {},
   "source": [
    "### Полиморфизм"
   ]
  },
  {
   "cell_type": "markdown",
   "id": "ac564810",
   "metadata": {},
   "source": [
    "Полиморфизм - это возможность объектов различных классов иметь одинаковые имена методов, но с разным поведением. Это позволяет использовать эти объекты совместно и вызывать одинаковые методы на них, независимо от их конкретного типа."
   ]
  },
  {
   "cell_type": "markdown",
   "id": "fe5429dd",
   "metadata": {},
   "source": [
    "<img src=\"image.png\" style=\"width: 400px;\"/>"
   ]
  },
  {
   "cell_type": "markdown",
   "id": "42865882",
   "metadata": {},
   "source": [
    "В Python полиморфизм может быть реализован через наследование и расширен через использование интерфейсов."
   ]
  },
  {
   "cell_type": "code",
   "execution_count": 26,
   "id": "150b9a78",
   "metadata": {},
   "outputs": [
    {
     "name": "stdout",
     "output_type": "stream",
     "text": [
      "Woof!\n",
      "Meow!\n",
      "Moo!\n"
     ]
    }
   ],
   "source": [
    "# Полиморфизм на основе наследования:\n",
    "class Animal:\n",
    "    def sound(self):\n",
    "        pass\n",
    "\n",
    "class Dog(Animal):\n",
    "    def sound(self):\n",
    "        return \"Woof!\"\n",
    "    \n",
    "class Cow(Animal):\n",
    "    def sound(self):\n",
    "        return \"Moo!\"\n",
    "\n",
    "class Cat(Animal):\n",
    "    def sound(self):\n",
    "        return \"Meow!\"\n",
    "\n",
    "animals = [Dog(), Cat(), Cow()]\n",
    "\n",
    "for animal in animals:\n",
    "    print(animal.sound())"
   ]
  },
  {
   "cell_type": "markdown",
   "id": "7e1fb6c3",
   "metadata": {},
   "source": [
    "В Python нет явной поддержки интерфейсов, но можно использовать абстрактные базовые классы (`Abstract Base Classes, ABC`) из модуля `abc` для определения интерфейсов. Интерфейс определяет набор методов, которые должны быть реализованы дочерними классами. Классы, которые наследуют интерфейс, должны предоставить реализацию всех методов интерфейса."
   ]
  },
  {
   "cell_type": "code",
   "execution_count": 1,
   "id": "9b0377ad",
   "metadata": {},
   "outputs": [
    {
     "name": "stdout",
     "output_type": "stream",
     "text": [
      "Woof!\n",
      "Meow!\n",
      "Moo!\n"
     ]
    }
   ],
   "source": [
    "# Полиморфизм через использование интерфейсов\n",
    "from abc import ABC, abstractmethod\n",
    "\n",
    "class Animal(ABC):\n",
    "    # пределяем абстрактный базовый класс Animal, который наследует ABC и содержит абстрактный метод area()\n",
    "    @abstractmethod\n",
    "    def sound(self):\n",
    "        pass\n",
    "\n",
    "class Dog(Animal):\n",
    "    def sound(self):\n",
    "        return \"Woof!\"\n",
    "    \n",
    "class Cow(Animal):\n",
    "    def sound(self):\n",
    "        return \"Moo!\"\n",
    "\n",
    "class Cat(Animal):\n",
    "    def sound(self):\n",
    "        return \"Meow!\"\n",
    "\n",
    "animals = [Dog(), Cat(), Cow()]\n",
    "\n",
    "for animal in animals:\n",
    "    print(animal.sound())"
   ]
  },
  {
   "cell_type": "code",
   "execution_count": 2,
   "id": "80d1cbe5",
   "metadata": {},
   "outputs": [],
   "source": [
    "class Fish(Animal):\n",
    "    def bloop(self):\n",
    "        pass"
   ]
  },
  {
   "cell_type": "code",
   "execution_count": 3,
   "id": "0982f5aa",
   "metadata": {},
   "outputs": [
    {
     "ename": "TypeError",
     "evalue": "Can't instantiate abstract class Fish with abstract method sound",
     "output_type": "error",
     "traceback": [
      "\u001b[0;31m---------------------------------------------------------------------------\u001b[0m",
      "\u001b[0;31mTypeError\u001b[0m                                 Traceback (most recent call last)",
      "Cell \u001b[0;32mIn[3], line 1\u001b[0m\n\u001b[0;32m----> 1\u001b[0m fish \u001b[38;5;241m=\u001b[39m \u001b[43mFish\u001b[49m\u001b[43m(\u001b[49m\u001b[43m)\u001b[49m\n",
      "\u001b[0;31mTypeError\u001b[0m: Can't instantiate abstract class Fish with abstract method sound"
     ]
    }
   ],
   "source": [
    "fish = Fish()"
   ]
  },
  {
   "cell_type": "markdown",
   "id": "68041ffe",
   "metadata": {},
   "source": [
    "* Использование полиморфизма позволяет писать код, который легко понять и читать. Общий интерфейс или базовый класс облегчает понимание, какие операции выполняются над объектами, и какие методы можно вызывать.\n",
    "* Полиморфизм позволяет объектам разных классов предоставлять различные реализации общих методов. Это позволяет имитировать различные типы поведения и адаптироваться к разным сценариям использования."
   ]
  },
  {
   "cell_type": "markdown",
   "id": "11b070f7",
   "metadata": {},
   "source": [
    "### Статические методы"
   ]
  },
  {
   "cell_type": "markdown",
   "id": "52dbc70c",
   "metadata": {},
   "source": [
    "Статические методы в Python - это методы, которые связаны с классом, а не с его экземплярами. Они не требуют создания объекта класса и не имеют доступа к атрибутам экземпляра. Статические методы могут быть вызваны непосредственно через имя класса."
   ]
  },
  {
   "cell_type": "markdown",
   "id": "0a50d5d3",
   "metadata": {},
   "source": [
    "Для объявления статического метода в Python используется декоратор `@staticmethod` перед определением метода. Внутри статического метода нет доступа к атрибутам экземпляра или класса через `self` или `cls`. Они могут выполнять только операции с аргументами, переданными в метод."
   ]
  },
  {
   "cell_type": "code",
   "execution_count": 5,
   "id": "c470437d",
   "metadata": {},
   "outputs": [
    {
     "name": "stdout",
     "output_type": "stream",
     "text": [
      "8\n",
      "24\n"
     ]
    }
   ],
   "source": [
    "class MathUtils:\n",
    "    @staticmethod\n",
    "    def add(x, y):\n",
    "        return x + y\n",
    "\n",
    "    @staticmethod\n",
    "    def multiply(x, y):\n",
    "        return x * y\n",
    "\n",
    "result1 = MathUtils.add(5, 3)\n",
    "result2 = MathUtils.multiply(4, 6)\n",
    "\n",
    "print(result1)\n",
    "print(result2)"
   ]
  },
  {
   "cell_type": "code",
   "execution_count": 6,
   "id": "6f5ce89b",
   "metadata": {},
   "outputs": [
    {
     "data": {
      "text/plain": [
       "15"
      ]
     },
     "execution_count": 6,
     "metadata": {},
     "output_type": "execute_result"
    }
   ],
   "source": [
    "mu = MathUtils()\n",
    "mu.add(5, 10)"
   ]
  },
  {
   "cell_type": "markdown",
   "id": "17894cb1",
   "metadata": {},
   "source": [
    "Статические методы полезны в ситуациях, когда не требуется доступ к состоянию объекта класса или его экземплярам. Они могут быть использованы для группировки связанных операций, которые не требуют доступа к атрибутам объекта."
   ]
  },
  {
   "cell_type": "markdown",
   "id": "85a51c9d",
   "metadata": {},
   "source": [
    "* В Python статические методы представляют собой обычные функции, помещенные внутрь класса для удобства организации кода. \n",
    "* Они находятся в пространстве имен этого класса и могут использоваться для вспомогательных операций. \n",
    "* Если в теле метода не используется параметр self, который ссылается на конкретный объект, то имеет смысл рассмотреть возможность объявления метода как статического. \n",
    "* Если такой метод нужен только для внутренней работы класса и не предполагается его использование внешним кодом, то возможно имеет смысл не только объявить метод статическим, но и скрыть его от доступа извне."
   ]
  },
  {
   "cell_type": "markdown",
   "id": "7fa1139e",
   "metadata": {},
   "source": [
    "### Декораторы класса: @property, @classmethod"
   ]
  },
  {
   "cell_type": "markdown",
   "id": "f68b1481",
   "metadata": {},
   "source": [
    "Декораторы класса - это специальные декораторы, которые применяются к методам класса для изменения их поведения или предоставления дополнительных функциональностей."
   ]
  },
  {
   "cell_type": "markdown",
   "id": "75349187",
   "metadata": {},
   "source": [
    "1. Декоратор **`@property`** используется для превращения метода класса в свойство (property). \n",
    "\n",
    "Он позволяет определить метод, который можно обращаться как к атрибуту класса, без явного вызова метода. Это позволяет скрыть сложную логику вычисления или обработки данных за простым доступом через атрибуты класса."
   ]
  },
  {
   "cell_type": "code",
   "execution_count": 7,
   "id": "5b97ad99",
   "metadata": {},
   "outputs": [
    {
     "name": "stdout",
     "output_type": "stream",
     "text": [
      "5\n",
      "7\n"
     ]
    }
   ],
   "source": [
    "class Circle:\n",
    "    def __init__(self, radius):\n",
    "        self._radius = radius\n",
    "\n",
    "    @property\n",
    "    #  Это позволяет обращаться к методу radius как к атрибуту класса без явного вызова\n",
    "    def radius(self):\n",
    "        return self._radius\n",
    "\n",
    "    @radius.setter\n",
    "    # Определяем setter метод radius, который позволяет установить новое значение радиуса\n",
    "    def radius(self, value):\n",
    "        if value < 0:\n",
    "            raise ValueError(\"Радиус не может быть отрицательным.\")\n",
    "        self._radius = value\n",
    "\n",
    "circle = Circle(5)\n",
    "print(circle.radius) # использование атрибута\n",
    "\n",
    "circle.radius = 7 # использование сеттера\n",
    "print(circle.radius)"
   ]
  },
  {
   "cell_type": "markdown",
   "id": "112c4f96",
   "metadata": {},
   "source": [
    "Декоратор **`@classmethod`** используется для создания методов класса, которые могут быть вызваны напрямую через имя класса, а не через экземпляр класса. Методы класса имеют доступ к классу вместо экземпляра, что позволяет выполнять операции, не зависящие от конкретных данных экземпляра."
   ]
  },
  {
   "cell_type": "markdown",
   "id": "81a823c0",
   "metadata": {},
   "source": [
    "Методы, помеченные декоратором `@classmethod`, могут быть вызваны напрямую через имя класса, без создания экземпляра класса. \n",
    "\n",
    "Методы класса имеют доступ к классу через параметр `cls`, что позволяет выполнять операции над данными класса."
   ]
  },
  {
   "cell_type": "code",
   "execution_count": 5,
   "id": "836bc877",
   "metadata": {},
   "outputs": [
    {
     "name": "stdout",
     "output_type": "stream",
     "text": [
      "108\n",
      "24\n"
     ]
    },
    {
     "data": {
      "text/plain": [
       "115"
      ]
     },
     "execution_count": 5,
     "metadata": {},
     "output_type": "execute_result"
    }
   ],
   "source": [
    "class MathUtils:\n",
    "    \n",
    "    A = 100\n",
    "    \n",
    "    @classmethod\n",
    "    def add(cls, x, y):\n",
    "        return x + y + cls.A\n",
    "\n",
    "    @classmethod\n",
    "    def multiply(cls, x, y):\n",
    "        return x * y\n",
    "\n",
    "result1 = MathUtils.add(5, 3)\n",
    "result2 = MathUtils.multiply(4, 6)\n",
    "\n",
    "print(result1)\n",
    "print(result2)\n",
    "\n",
    "mu = MathUtils()\n",
    "mu.add(5, 10)"
   ]
  },
  {
   "cell_type": "code",
   "execution_count": 6,
   "id": "684150e7",
   "metadata": {},
   "outputs": [
    {
     "data": {
      "text/plain": [
       "115"
      ]
     },
     "execution_count": 6,
     "metadata": {},
     "output_type": "execute_result"
    }
   ],
   "source": [
    "# отличие classmethod от selfmethod\n",
    "mu.A = 200\n",
    "mu.add(5, 10)"
   ]
  },
  {
   "cell_type": "code",
   "execution_count": 10,
   "id": "c8166cf0",
   "metadata": {},
   "outputs": [
    {
     "name": "stdout",
     "output_type": "stream",
     "text": [
      "115\n"
     ]
    },
    {
     "data": {
      "text/plain": [
       "100"
      ]
     },
     "execution_count": 10,
     "metadata": {},
     "output_type": "execute_result"
    }
   ],
   "source": [
    "mu1 = MathUtils()\n",
    "print(mu.add(5, 10))\n",
    "mu1.A"
   ]
  },
  {
   "cell_type": "code",
   "execution_count": 7,
   "id": "8829db00",
   "metadata": {},
   "outputs": [
    {
     "data": {
      "text/plain": [
       "200"
      ]
     },
     "execution_count": 7,
     "metadata": {},
     "output_type": "execute_result"
    }
   ],
   "source": [
    "mu.A"
   ]
  },
  {
   "cell_type": "markdown",
   "id": "c1f1cd32",
   "metadata": {},
   "source": [
    "**Отличия @classmethod и @staticmethod:**\n",
    "    \n",
    "1. Параметр `self` или `cls`:\n",
    "   - `@classmethod`: Метод, помеченный декоратором `@classmethod`, принимает первым параметром ссылку на класс, обычно называемую `cls`. Это позволяет методу работать с классом и его атрибутами.\n",
    "   - `@staticmethod`: Метод, помеченный декоратором `@staticmethod`, не требует обязательного первого параметра, связанного с классом (например, `self` или `cls`). Он не имеет доступа к классу и его атрибутам. Вместо этого, он работает как обычная функция, привязанная к классу.\n",
    "\n",
    "2. Обращение к методам и атрибутам класса:\n",
    "   - `@classmethod`: Методы, помеченные декоратором `@classmethod`, имеют доступ к атрибутам класса и могут вызывать другие методы класса через параметр `cls`.\n",
    "   - `@staticmethod`: Статические методы, помеченные декоратором `@staticmethod`, не имеют прямого доступа к атрибутам класса и не могут вызывать другие методы класса через `self` или `cls`.\n",
    "\n",
    "3. Использование наследования:\n",
    "   - `@classmethod`: Методы, помеченные декоратором `@classmethod`, могут использовать наследование. Когда вызывается метод класса через дочерний класс, параметр `cls` будет ссылаться на соответствующий дочерний класс, а не на родительский.\n",
    "   - `@staticmethod`: Статические методы, помеченные декоратором `@staticmethod`, не имеют доступа к наследованию. Они работают только с тем классом, в котором они определены, и не могут быть переопределены в дочерних классах.\n",
    "\n",
    "- `@classmethod` используется, когда методу требуется доступ к атрибутам класса или вызов других методов класса.\n",
    "- `@staticmethod` используется, когда метод не требует доступа к атрибутам класса и не зависит от состояния экземпляра или класса.\n",
    "\n",
    "И `@classmethod` и `@staticmethod` можно вызывать напрямую через имя класса, без создания экземпляра класса."
   ]
  },
  {
   "cell_type": "markdown",
   "id": "ddc20b65",
   "metadata": {},
   "source": [
    "### Инкапсуляция"
   ]
  },
  {
   "cell_type": "markdown",
   "id": "200c510a",
   "metadata": {},
   "source": [
    "Инкапсуляция - это многозначный термин, и может быть рассмотрена как:\n",
    "\n",
    "* связь данных с методами, которые этими данными управляют;\n",
    "* механизм для управления доступом к данным или методам которые управляют этими данными."
   ]
  },
  {
   "cell_type": "markdown",
   "id": "11352115",
   "metadata": {},
   "source": [
    "**Инкапсуляция как связь данных с методами, которые этими данными управляют**\n",
    "\n",
    "Алгоритмы + структуры данных = программы — Никлаус Вирт"
   ]
  },
  {
   "cell_type": "markdown",
   "id": "d34b1cc6",
   "metadata": {},
   "source": [
    "**Инкапсуляция как механизм, позволяющий скрыть внутренние детали реализации класса от внешнего кода.** \n",
    "\n",
    "В таком случае поддерживается концепция \"сокрытия информации\" и предоставляется интерфейс для взаимодействия с классом.\n",
    "\n",
    "В Python инкапсуляция достигается с помощью соглашений об именовании и использовании атрибутов и методов класса: \n",
    "* публичный (public, нет особого синтаксиса) -- свойство/метод доступно из любого места, других классов и экземпляров объекта\n",
    "* защищенный (protected, одно нижнее подчеркивание в начале названия) -- свойство/метод видно во всех классах, расширяющих текущий класс\n",
    "* приватный (private, два нижних подчеркивания в начала названия) -- свойство/метод видно только в его собственном классе"
   ]
  },
  {
   "cell_type": "code",
   "execution_count": 3,
   "id": "a97834ab",
   "metadata": {},
   "outputs": [
    {
     "name": "stdout",
     "output_type": "stream",
     "text": [
      "Audi\n",
      "A6\n",
      "Автомобиль в ремонте\n"
     ]
    },
    {
     "ename": "AttributeError",
     "evalue": "'Car' object has no attribute '__display_year'",
     "output_type": "error",
     "traceback": [
      "\u001b[0;31m---------------------------------------------------------------------------\u001b[0m",
      "\u001b[0;31mAttributeError\u001b[0m                            Traceback (most recent call last)",
      "Cell \u001b[0;32mIn[3], line 30\u001b[0m\n\u001b[1;32m     26\u001b[0m \u001b[38;5;28mprint\u001b[39m(car\u001b[38;5;241m.\u001b[39mget_model())\n\u001b[1;32m     28\u001b[0m car\u001b[38;5;241m.\u001b[39m_repair()\n\u001b[0;32m---> 30\u001b[0m \u001b[43mcar\u001b[49m\u001b[38;5;241;43m.\u001b[39;49m\u001b[43m__display_year\u001b[49m()\n",
      "\u001b[0;31mAttributeError\u001b[0m: 'Car' object has no attribute '__display_year'"
     ]
    }
   ],
   "source": [
    "class Car:\n",
    "    def __init__(self, brand, model, year):\n",
    "        self._brand = brand  \n",
    "        self._model = model  \n",
    "        self.__year = year   # приватный атрибут\n",
    "\n",
    "    def get_brand(self):\n",
    "        return self._brand\n",
    "\n",
    "    def get_model(self):\n",
    "        return self._model\n",
    "\n",
    "    def _repair(self):\n",
    "        # является внутренним методом класса и может быть вызван извне\n",
    "        # но его имя указывает, что он предназначен для внутреннего использования\n",
    "        print(\"Автомобиль в ремонте\")\n",
    "\n",
    "    def __display_year(self):\n",
    "        #  приватный, не может быть вызван напрямую извне\n",
    "        print(f\"Год выпуска: {self.__year}\")\n",
    "\n",
    "\n",
    "car = Car(\"Audi\", \"A6\", 2021)\n",
    "\n",
    "print(car.get_brand()) \n",
    "print(car.get_model())\n",
    "\n",
    "car._repair()\n",
    "\n",
    "car.__display_year()"
   ]
  },
  {
   "cell_type": "code",
   "execution_count": 8,
   "id": "190e32aa",
   "metadata": {},
   "outputs": [
    {
     "name": "stdout",
     "output_type": "stream",
     "text": [
      "[('_Car__display_year', <bound method Car.__display_year of <__main__.Car object at 0x7fab2c0f1ba0>>), ('_Car__year', 2021), ('__class__', <class '__main__.Car'>), ('__delattr__', <method-wrapper '__delattr__' of Car object at 0x7fab2c0f1ba0>), ('__dict__', {'_brand': 'Audi', '_model': 'A6', '_Car__year': 2021}), ('__dir__', <built-in method __dir__ of Car object at 0x7fab2c0f1ba0>), ('__doc__', None), ('__eq__', <method-wrapper '__eq__' of Car object at 0x7fab2c0f1ba0>), ('__format__', <built-in method __format__ of Car object at 0x7fab2c0f1ba0>), ('__ge__', <method-wrapper '__ge__' of Car object at 0x7fab2c0f1ba0>), ('__getattribute__', <method-wrapper '__getattribute__' of Car object at 0x7fab2c0f1ba0>), ('__gt__', <method-wrapper '__gt__' of Car object at 0x7fab2c0f1ba0>), ('__hash__', <method-wrapper '__hash__' of Car object at 0x7fab2c0f1ba0>), ('__init__', <bound method Car.__init__ of <__main__.Car object at 0x7fab2c0f1ba0>>), ('__init_subclass__', <built-in method __init_subclass__ of type object at 0x560274352aa0>), ('__le__', <method-wrapper '__le__' of Car object at 0x7fab2c0f1ba0>), ('__lt__', <method-wrapper '__lt__' of Car object at 0x7fab2c0f1ba0>), ('__module__', '__main__'), ('__ne__', <method-wrapper '__ne__' of Car object at 0x7fab2c0f1ba0>), ('__new__', <built-in method __new__ of type object at 0x560273279800>), ('__reduce__', <built-in method __reduce__ of Car object at 0x7fab2c0f1ba0>), ('__reduce_ex__', <built-in method __reduce_ex__ of Car object at 0x7fab2c0f1ba0>), ('__repr__', <method-wrapper '__repr__' of Car object at 0x7fab2c0f1ba0>), ('__setattr__', <method-wrapper '__setattr__' of Car object at 0x7fab2c0f1ba0>), ('__sizeof__', <built-in method __sizeof__ of Car object at 0x7fab2c0f1ba0>), ('__str__', <method-wrapper '__str__' of Car object at 0x7fab2c0f1ba0>), ('__subclasshook__', <built-in method __subclasshook__ of type object at 0x560274352aa0>), ('__weakref__', None), ('_brand', 'Audi'), ('_model', 'A6'), ('_repair', <bound method Car._repair of <__main__.Car object at 0x7fab2c0f1ba0>>), ('get_brand', <bound method Car.get_brand of <__main__.Car object at 0x7fab2c0f1ba0>>), ('get_model', <bound method Car.get_model of <__main__.Car object at 0x7fab2c0f1ba0>>)]\n"
     ]
    }
   ],
   "source": [
    "import inspect\n",
    "print(inspect.getmembers(car))\n",
    "# если класс-предок не указан, то таковым считается object — самый базовый класс в Python"
   ]
  },
  {
   "cell_type": "markdown",
   "id": "9c2d3fec",
   "metadata": {},
   "source": [
    "Сеттер — это метод, который изменяет (устанавливает; от set) значение поля. \n",
    "\n",
    "А геттер — это метод, который возвращает (от get) значение какого-то поля."
   ]
  },
  {
   "cell_type": "code",
   "execution_count": 15,
   "id": "4c0aa31c",
   "metadata": {},
   "outputs": [
    {
     "name": "stdout",
     "output_type": "stream",
     "text": [
      "5\n",
      "7\n"
     ]
    },
    {
     "ename": "ValueError",
     "evalue": "Радиус не может быть отрицательным.",
     "output_type": "error",
     "traceback": [
      "\u001b[0;31m---------------------------------------------------------------------------\u001b[0m",
      "\u001b[0;31mValueError\u001b[0m                                Traceback (most recent call last)",
      "Cell \u001b[0;32mIn[15], line 23\u001b[0m\n\u001b[1;32m     20\u001b[0m circle\u001b[38;5;241m.\u001b[39mradius \u001b[38;5;241m=\u001b[39m \u001b[38;5;241m7\u001b[39m \u001b[38;5;66;03m# использование сеттера\u001b[39;00m\n\u001b[1;32m     21\u001b[0m \u001b[38;5;28mprint\u001b[39m(circle\u001b[38;5;241m.\u001b[39mradius)\n\u001b[0;32m---> 23\u001b[0m \u001b[43mcircle\u001b[49m\u001b[38;5;241;43m.\u001b[39;49m\u001b[43mradius\u001b[49m \u001b[38;5;241m=\u001b[39m \u001b[38;5;241m-\u001b[39m\u001b[38;5;241m2\u001b[39m \n",
      "Cell \u001b[0;32mIn[15], line 14\u001b[0m, in \u001b[0;36mCircle.radius\u001b[0;34m(self, value)\u001b[0m\n\u001b[1;32m     10\u001b[0m \u001b[38;5;129m@radius\u001b[39m\u001b[38;5;241m.\u001b[39msetter\n\u001b[1;32m     11\u001b[0m \u001b[38;5;66;03m# Определяем setter метод radius, который позволяет установить новое значение радиуса\u001b[39;00m\n\u001b[1;32m     12\u001b[0m \u001b[38;5;28;01mdef\u001b[39;00m \u001b[38;5;21mradius\u001b[39m(\u001b[38;5;28mself\u001b[39m, value):\n\u001b[1;32m     13\u001b[0m     \u001b[38;5;28;01mif\u001b[39;00m value \u001b[38;5;241m<\u001b[39m \u001b[38;5;241m0\u001b[39m:\n\u001b[0;32m---> 14\u001b[0m         \u001b[38;5;28;01mraise\u001b[39;00m \u001b[38;5;167;01mValueError\u001b[39;00m(\u001b[38;5;124m\"\u001b[39m\u001b[38;5;124mРадиус не может быть отрицательным.\u001b[39m\u001b[38;5;124m\"\u001b[39m)\n\u001b[1;32m     15\u001b[0m     \u001b[38;5;28mself\u001b[39m\u001b[38;5;241m.\u001b[39m_radius \u001b[38;5;241m=\u001b[39m value\n",
      "\u001b[0;31mValueError\u001b[0m: Радиус не может быть отрицательным."
     ]
    }
   ],
   "source": [
    "class Circle:\n",
    "    def __init__(self, radius):\n",
    "        self._radius = radius\n",
    "\n",
    "    @property\n",
    "    #  Это позволяет обращаться к методу radius как к атрибуту класса без явного вызова\n",
    "    def radius(self):\n",
    "        return self._radius\n",
    "\n",
    "    @radius.setter\n",
    "    # Определяем setter метод radius, который позволяет установить новое значение радиуса\n",
    "    def radius(self, value):\n",
    "        if value < 0:\n",
    "            raise ValueError(\"Радиус не может быть отрицательным.\")\n",
    "        self._radius = value\n",
    "\n",
    "circle = Circle(5)\n",
    "print(circle.radius) # использование атрибута\n",
    "\n",
    "circle.radius = 7 # использование сеттера\n",
    "print(circle.radius)\n",
    "\n",
    "circle.radius = -2 "
   ]
  },
  {
   "cell_type": "markdown",
   "id": "8eecf444",
   "metadata": {},
   "source": [
    "### Исключения"
   ]
  },
  {
   "cell_type": "markdown",
   "id": "4744d288",
   "metadata": {},
   "source": [
    "Класс исключения (`Exception`) в Python является специальным типом класса, который предназначен для обработки ошибок и исключительных ситуаций в программе. Класс `Exception` и его подклассы используются для создания объектов, которые можно возбуждать (`raise`) в программе для сообщения об ошибке или другой исключительной ситуации.\n",
    "\n",
    "Когда возникает исключительная ситуация, программа создает объект класса исключения и возбуждает его с помощью оператора `raise`. Затем `Python` ищет ближайший обработчик исключения, который может обработать данное исключение. Если такой обработчик не найден, программа завершается с сообщением об ошибке."
   ]
  },
  {
   "cell_type": "code",
   "execution_count": 11,
   "id": "e3a93df8",
   "metadata": {},
   "outputs": [
    {
     "name": "stdout",
     "output_type": "stream",
     "text": [
      "Исключение: Значение не может быть отрицательным\n"
     ]
    }
   ],
   "source": [
    "class MyException(Exception):\n",
    "    pass\n",
    "\n",
    "def my_function(x):\n",
    "    if x < 0:\n",
    "        raise MyException(\"Значение не может быть отрицательным\")\n",
    "    return x * 2\n",
    "\n",
    "try:\n",
    "    result = my_function(-5)\n",
    "except MyException as e:\n",
    "    print(\"Исключение:\", str(e))\n",
    "else:\n",
    "    print(\"Результат:\", result)"
   ]
  },
  {
   "cell_type": "markdown",
   "id": "7cb35182",
   "metadata": {},
   "source": [
    "Классы исключений могут быть полезными, когда вам нужно сгенерировать собственное сообщение об ошибке или когда вы хотите обрабатывать определенные типы ошибок отдельно от других."
   ]
  },
  {
   "cell_type": "code",
   "execution_count": 16,
   "id": "28d061d5",
   "metadata": {},
   "outputs": [
    {
     "name": "stdout",
     "output_type": "stream",
     "text": [
      "5.0\n",
      "CustomException: Деление на ноль недопустимо.\n"
     ]
    }
   ],
   "source": [
    "class CustomException(Exception):\n",
    "    def __init__(self, message):\n",
    "        self.message = message\n",
    "\n",
    "    def __str__(self):\n",
    "        return f'CustomException: {self.message}'\n",
    "\n",
    "class Calculator:\n",
    "    def divide(self, num1, num2):\n",
    "        try:\n",
    "            if num2 == 0:\n",
    "                 raise CustomException(\"Деление на ноль недопустимо.\")\n",
    "            else:\n",
    "                return num1 / num2\n",
    "        except CustomException as e:\n",
    "            return str(e)\n",
    "\n",
    "\n",
    "calculator = Calculator()\n",
    "\n",
    "print(calculator.divide(10, 2))\n",
    "print(calculator.divide(10, 0))  "
   ]
  },
  {
   "cell_type": "code",
   "execution_count": null,
   "id": "1347e8f7",
   "metadata": {},
   "outputs": [],
   "source": []
  },
  {
   "cell_type": "code",
   "execution_count": 13,
   "id": "39d57f89",
   "metadata": {},
   "outputs": [
    {
     "name": "stdout",
     "output_type": "stream",
     "text": [
      "5.0\n",
      "Hi five!\n",
      "None\n"
     ]
    }
   ],
   "source": [
    "class Calculator:\n",
    "    def divide(self, num1, num2):\n",
    "        try:\n",
    "            if num2 == 0:\n",
    "                try:\n",
    "                    raise 5\n",
    "                except:\n",
    "                    print(\"Hi five!\")\n",
    "            else:\n",
    "                return num1 / num2\n",
    "        except CustomException as e:\n",
    "            return str(e)\n",
    "        except Exception as e:\n",
    "            print(\"Bare exception\", e)\n",
    "\n",
    "\n",
    "calculator = Calculator()\n",
    "\n",
    "print(calculator.divide(10, 2))\n",
    "print(calculator.divide(10, 0))  "
   ]
  },
  {
   "cell_type": "markdown",
   "id": "fbeb66fe",
   "metadata": {},
   "source": [
    "https://docs.google.com/forms/d/e/1FAIpQLSddDUfq-StjgH13rWy4usdnuV3LpRaNKP8uCG8IdJQ3WH122Q/viewform"
   ]
  },
  {
   "cell_type": "code",
   "execution_count": null,
   "id": "7753d91d",
   "metadata": {},
   "outputs": [],
   "source": []
  }
 ],
 "metadata": {
  "kernelspec": {
   "display_name": "Python 3 (ipykernel)",
   "language": "python",
   "name": "python3"
  },
  "language_info": {
   "codemirror_mode": {
    "name": "ipython",
    "version": 3
   },
   "file_extension": ".py",
   "mimetype": "text/x-python",
   "name": "python",
   "nbconvert_exporter": "python",
   "pygments_lexer": "ipython3",
   "version": "3.10.6"
  }
 },
 "nbformat": 4,
 "nbformat_minor": 5
}
